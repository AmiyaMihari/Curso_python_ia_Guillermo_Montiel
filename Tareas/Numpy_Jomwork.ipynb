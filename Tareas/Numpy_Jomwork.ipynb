{
 "cells": [
  {
   "cell_type": "markdown",
   "metadata": {
    "id": "AnjfrYcx4MCI"
   },
   "source": [
    "# **Tarea de Numpy**\n",
    "\n",
    "Este notebook es el de los ejercicios >:)"
   ]
  },
  {
   "cell_type": "code",
   "execution_count": 2,
   "metadata": {
    "colab": {
     "base_uri": "https://localhost:8080/"
    },
    "executionInfo": {
     "elapsed": 9511,
     "status": "ok",
     "timestamp": 1746659065345,
     "user": {
      "displayName": "David Elias González García",
      "userId": "10354222974665753730"
     },
     "user_tz": 360
    },
    "id": "qxKzpmVP8Lqs",
    "outputId": "7a48480b-7b6b-4905-a165-57dd0860d3c8"
   },
   "outputs": [
    {
     "name": "stdout",
     "output_type": "stream",
     "text": [
      "[1 2 3 4 5]\n",
      "3.0\n"
     ]
    }
   ],
   "source": [
    "#!pip install numpy\n",
    "import numpy as np\n",
    "\n",
    "# Probando si si jala el numpy\n",
    "my_arreglow = np.array([1, 2, 3, 4, 5])\n",
    "\n",
    "print(my_arreglow)\n",
    "print(np.mean(my_arreglow))\n"
   ]
  },
  {
   "cell_type": "markdown",
   "metadata": {
    "id": "5bZxvLcH4Twv"
   },
   "source": [
    "## Ejercicios de refuerzo"
   ]
  },
  {
   "cell_type": "markdown",
   "metadata": {
    "id": "0DKnt0XJ4b0j"
   },
   "source": [
    "### **Ejercicio 1 - Crear un array de ceros:**\n",
    "Crea un array de tamaño (3, 4) lleno de ceros."
   ]
  },
  {
   "cell_type": "code",
   "execution_count": 31,
   "metadata": {
    "id": "XpBz8hQx4LD7"
   },
   "outputs": [
    {
     "name": "stdout",
     "output_type": "stream",
     "text": [
      "[[0. 0. 0. 0.]\n",
      " [0. 0. 0. 0.]\n",
      " [0. 0. 0. 0.]]\n"
     ]
    }
   ],
   "source": [
    "# Solución (:\n",
    "arr_ceros = np.zeros((3, 4))\n",
    "print(arr_ceros)"
   ]
  },
  {
   "cell_type": "markdown",
   "metadata": {
    "id": "3LhYSK4M91vQ"
   },
   "source": [
    "### **Ejercicio 2-  Suma de elementos:**\n",
    "   Dado el array [1, 2, 3, 4, 5], calcula la suma de todos sus elementos usando NumPy."
   ]
  },
  {
   "cell_type": "code",
   "execution_count": 5,
   "metadata": {
    "id": "l0s1XSEL98xf"
   },
   "outputs": [
    {
     "name": "stdout",
     "output_type": "stream",
     "text": [
      "15\n"
     ]
    }
   ],
   "source": [
    "# Solucion :)\n",
    "numeros = np.array([1, 2, 3, 4, 5])\n",
    "suma = np.sum(numeros)\n",
    "print(suma)"
   ]
  },
  {
   "cell_type": "markdown",
   "metadata": {
    "id": "u1S6J4AI99Ae"
   },
   "source": [
    "### **Ejercicio 3 - Encontrar el máximo y mínimo:**\n",
    "Dado el array [10, 20, 30, 40, 50], encuentra el valor máximo y mínimo."
   ]
  },
  {
   "cell_type": "code",
   "execution_count": 9,
   "metadata": {
    "id": "rU0mZk0h-A0R"
   },
   "outputs": [
    {
     "name": "stdout",
     "output_type": "stream",
     "text": [
      "El valor max es:  50\n",
      "El valor min es: 10\n"
     ]
    }
   ],
   "source": [
    "# Solución:)\n",
    "array = np.array([10, 20, 30, 40, 50])\n",
    "\n",
    "maximo = np.max(array)\n",
    "print(\"El valor max es: \", maximo)\n",
    "minimo = np.min(array)\n",
    "print(\"El valor min es:\", minimo)"
   ]
  },
  {
   "cell_type": "markdown",
   "metadata": {
    "id": "lACW-PKX-BDd"
   },
   "source": [
    "### **Ejercicio 4 - Encontrar el máximo y mínimo:**\n",
    " Dado el array [10, 20, 30, 40, 50], encuentra el valor máximo y mínimo.\n"
   ]
  },
  {
   "cell_type": "code",
   "execution_count": 10,
   "metadata": {
    "id": "-qHvH7gJ-Ede"
   },
   "outputs": [
    {
     "name": "stdout",
     "output_type": "stream",
     "text": [
      "El valor max es:  50\n",
      "El valor min es: 10\n"
     ]
    }
   ],
   "source": [
    "# Solución:)\n",
    "array = np.array([10, 20, 30, 40, 50])\n",
    "\n",
    "maximo = np.max(array)\n",
    "print(\"El valor max es: \", maximo)\n",
    "minimo = np.min(array)\n",
    "print(\"El valor min es:\", minimo)"
   ]
  },
  {
   "cell_type": "markdown",
   "metadata": {
    "id": "ZkPxM1Wt-EmM"
   },
   "source": [
    "### **Ejercicio 5 - Generar números aleatorios:**\n",
    "  Genera un array de 5 números aleatorios entre 0 y 1."
   ]
  },
  {
   "cell_type": "code",
   "execution_count": 42,
   "metadata": {
    "id": "PBaN-yAp-Hu0"
   },
   "outputs": [
    {
     "name": "stdout",
     "output_type": "stream",
     "text": [
      "[[0.6  0.7  0.87 0.61 0.93]]\n"
     ]
    }
   ],
   "source": [
    "# Solución:)\n",
    "num_aleatorios = np.random.randint(0, 100, size=(1, 5))\n",
    "num_aleatorios = num_aleatorios / 100\n",
    "print(num_aleatorios)"
   ]
  },
  {
   "cell_type": "markdown",
   "metadata": {
    "id": "MEDxAgWLAE8Q"
   },
   "source": [
    "### **Ejercicio 6 - Promedio de un array:**\n",
    "Dado el array [5, 10, 15, 20, 25], calcula su promedio usando NumPy."
   ]
  },
  {
   "cell_type": "code",
   "execution_count": 43,
   "metadata": {
    "id": "HjnjecKuAOkN"
   },
   "outputs": [
    {
     "name": "stdout",
     "output_type": "stream",
     "text": [
      "El promedio es: 15.0\n"
     ]
    }
   ],
   "source": [
    "#Solucion:)\n",
    "arr_ej6 = np.array([5, 10, 15, 20, 25])\n",
    "promedio = np.mean(arr_ej6)\n",
    "print(\"El promedio es:\", promedio)"
   ]
  },
  {
   "cell_type": "markdown",
   "metadata": {
    "id": "Z93kn0htAPZb"
   },
   "source": [
    "### **Ejercicio 7 - Concatenar dos arrays**\n",
    "Dados los arrays A = [1, 2, 3] y B = [4, 5, 6], concaténalos en un solo array."
   ]
  },
  {
   "cell_type": "code",
   "execution_count": 51,
   "metadata": {
    "id": "NzldaS9RAS45"
   },
   "outputs": [
    {
     "name": "stdout",
     "output_type": "stream",
     "text": [
      "[1 2 3 4 5 6]\n"
     ]
    }
   ],
   "source": [
    "#Solucion:)\n",
    "A = np.array([1, 2, 3])\n",
    "B = np.array([4, 5, 6])\n",
    "#Contatenando los arrays\n",
    "C = np.concatenate((A, B))\n",
    "print(C)"
   ]
  },
  {
   "cell_type": "markdown",
   "metadata": {
    "id": "bvTCzzFjAevg"
   },
   "source": [
    "### **Ejercicio 8 - Reshape de un Array**\n",
    "Dado el array [1, 2, 3, 4, 5, 6], cámbialo a una matriz de 2x3."
   ]
  },
  {
   "cell_type": "code",
   "execution_count": 64,
   "metadata": {
    "id": "0hfE1QUMAhB3"
   },
   "outputs": [
    {
     "name": "stdout",
     "output_type": "stream",
     "text": [
      "[[1 2 3]\n",
      " [4 5 6]]\n"
     ]
    }
   ],
   "source": [
    "#Solución:)\n",
    "arr_ej8 = np.array([1, 2, 3, 4, 5, 6])\n",
    "arr_2x3 = arr_ej8.reshape(2, 3)\n",
    "print(arr_2x3)"
   ]
  },
  {
   "cell_type": "markdown",
   "metadata": {
    "id": "By9zMuMyYMNA"
   },
   "source": [
    "### **Ejercicio 9 - Producto punto (dot product):**\n",
    "Dados dos arrays A = [1, 2, 3] y B = [4, 5, 6], calcula su producto punto"
   ]
  },
  {
   "cell_type": "code",
   "execution_count": 66,
   "metadata": {
    "id": "Vj-94PgAhpmk"
   },
   "outputs": [
    {
     "name": "stdout",
     "output_type": "stream",
     "text": [
      "Producto punto: 32\n"
     ]
    }
   ],
   "source": [
    "#Solución:)\n",
    "A = np.array([1, 2, 3])\n",
    "B = np.array([4, 5, 6])\n",
    "print(\"Producto punto:\", np.dot(A, B))"
   ]
  },
  {
   "cell_type": "markdown",
   "metadata": {
    "id": "Z0UxB4reh4LU"
   },
   "source": [
    "### **Ejercicio 10 - Reorganizar un array:**\n",
    "Dado el array [1, 2, 3, 4, 5, 6, 7, 8, 9, 10], conviértelo en una matriz (2, 5)."
   ]
  },
  {
   "cell_type": "code",
   "execution_count": 67,
   "metadata": {
    "id": "GkjKd3SLh6Sf"
   },
   "outputs": [
    {
     "name": "stdout",
     "output_type": "stream",
     "text": [
      "[[ 1  2  3  4  5]\n",
      " [ 6  7  8  9 10]]\n"
     ]
    }
   ],
   "source": [
    "#Solución:)\n",
    "arr_ej10 = np.array([1, 2, 3, 4, 5, 6, 7, 8, 9, 10])\n",
    "arr_2x5 = arr_ej10.reshape(2, 5)\n",
    "print(arr_2x5)"
   ]
  },
  {
   "cell_type": "markdown",
   "metadata": {
    "id": "MpTGrPV5iE1Z"
   },
   "source": [
    "### **Ejercicio extra - Encontrar el *k*-ésimo elemento más pequeño en un array**\n",
    "Dado arr = np.array([9, 3, 6, 2, 1, 7]), encuentra el 3er elemento más pequeño sin ordenar el array completo.\n",
    "\n",
    "**Pista solución 1**: Se puede hacer con un método de Numpy\n",
    "\n",
    "**Pista solución 2**: El código se hace más complicado, pero se puede resolver con ciclos iterativos."
   ]
  },
  {
   "cell_type": "code",
   "execution_count": 80,
   "metadata": {
    "id": "OYaMOW-jiLlX"
   },
   "outputs": [
    {
     "name": "stdout",
     "output_type": "stream",
     "text": [
      "El tercer mínimo es: 3\n"
     ]
    }
   ],
   "source": [
    "#Solucion :o\n",
    "arr = np.array([9, 3, 6, 2, 1, 7])\n",
    "# np.partition ordena el array de tal forma que el tercer mínimo queda en la posición 2\n",
    "# y los demás elementos quedan en cualquier orden\n",
    "# El tercer mínimo es el elemento en la posición [2]\n",
    "min3 = np.partition(arr, 2)[2]\n",
    "print(\"El tercer mínimo es:\", min3)\n"
   ]
  },
  {
   "cell_type": "markdown",
   "metadata": {
    "id": "Unyrp8HOCtMh"
   },
   "source": [
    "## **Ejercicios aplicados**"
   ]
  },
  {
   "cell_type": "markdown",
   "metadata": {
    "id": "K1CPCb12GeCz"
   },
   "source": [
    "### **Ejercicio: Cálculo de ROI (Retorno de Inversión)**\n",
    "Dadas las inversiones ([1000, 1500, 2000]) y sus retornos ([1200, 1650, 1800]), calcula el ROI porcentual para cada caso.\n",
    "\n",
    "*(Fórmula: ROI = (retorno - inversión) / inversión * 100)*"
   ]
  },
  {
   "cell_type": "code",
   "execution_count": 88,
   "metadata": {
    "id": "6Eo-aN8bCwg1"
   },
   "outputs": [
    {
     "name": "stdout",
     "output_type": "stream",
     "text": [
      "El ROI es [ 20.  10. -10.]\n"
     ]
    }
   ],
   "source": [
    "# Solucion del ROIROIROIROIORIORI\n",
    "inversiones = np.array([1000, 1500, 2000])\n",
    "retornos = np.array([1200, 1650, 1800])\n",
    "\n",
    "roi = (retornos - inversiones) / inversiones * 100\n",
    "print(\"El ROI es\", roi)"
   ]
  },
  {
   "cell_type": "markdown",
   "metadata": {
    "id": "3CfyZVv4GksC"
   },
   "source": [
    "### **Ejercicio: Normalización de Datos**\n",
    "Tienes un dataset de precios de productos (en USD): [250, 320, 150, 500, 210]. Normaliza los valores al rango [0, 1] para compararlos en una escala común.\n",
    "\n",
    "**Formulita de la normalización**: (x - min) / (max - min): Para una escala valores entre 0 y 1."
   ]
  },
  {
   "cell_type": "code",
   "execution_count": 87,
   "metadata": {
    "id": "afTic4_JGxAy"
   },
   "outputs": [
    {
     "name": "stdout",
     "output_type": "stream",
     "text": [
      "Valores normalizados [0.28571429 0.48571429 0.         1.         0.17142857]\n"
     ]
    }
   ],
   "source": [
    "productos = np.array([250, 320, 150, 500, 210])\n",
    "\n",
    "normalizados = (productos - np.min(productos)) / (np.max(productos) - np.min(productos))\n",
    "print(\"Valores normalizados\", normalizados)\n"
   ]
  },
  {
   "cell_type": "markdown",
   "metadata": {
    "id": "Px7Pdn7xHBAR"
   },
   "source": [
    "### **Ejercicio: Filtrado de Datos**\n",
    "En un array de ventas diarias ([1200, 0, 750, 2400, 0, 1800]), reemplaza los ceros (días sin ventas) por el promedio de los días con ventas."
   ]
  },
  {
   "cell_type": "code",
   "execution_count": 96,
   "metadata": {
    "id": "rqwubxX-HFBX"
   },
   "outputs": [
    {
     "name": "stdout",
     "output_type": "stream",
     "text": [
      "Promedio de ventas diarias: 1537.5\n",
      "Ventas sin ceros:  [1200 1537  750 2400 1537 1800]\n"
     ]
    }
   ],
   "source": [
    "ventas_diarias = np.array([1200, 0, 750, 2400, 0, 1800])\n",
    "promedio_ventas = np.mean(ventas_diarias[ventas_diarias != 0])\n",
    "print(\"Promedio de ventas diarias:\", promedio_ventas)\n",
    "\n",
    "ventas_diarias[ventas_diarias == 0] = promedio_ventas\n",
    "print(\"Ventas sin ceros: \", ventas_diarias)\n",
    "\n"
   ]
  },
  {
   "cell_type": "markdown",
   "metadata": {
    "id": "dKK2wBEEdqzt"
   },
   "source": [
    "### **Ejercicio - Análisis de Presión Arterial**\n",
    "Tenemos un dataset de mediciones de presión arterial sistólica (mmHg) de 10 pacientes:\n",
    "[120, 135, 140, 118, 150, 130, 160, 125, 142, 128].\n",
    "\n",
    "Calculen:\n",
    "- Media y desviación estándar.\n",
    "- Identifiquen valores fuera del rango normal (90–140 mmHg)."
   ]
  },
  {
   "cell_type": "code",
   "execution_count": 98,
   "metadata": {
    "id": "RkYj4KJud0uu"
   },
   "outputs": [
    {
     "name": "stdout",
     "output_type": "stream",
     "text": [
      "El promedio es: 134.8\n",
      "La desviación estándar es: 12.69488085804668\n",
      "Valores atípicos: [150 160 142]\n"
     ]
    }
   ],
   "source": [
    "presion = np.array([120, 135, 140, 118, 150, 130, 160, 125, 142, 128])\n",
    "\n",
    "media = np.mean(presion)\n",
    "desviacion = np.std(presion)\n",
    "\n",
    "valores_atipicos = presion[(presion < 90) | (presion > 140)]\n",
    "\n",
    "print(\"El promedio es:\", media)\n",
    "print(\"La desviación estándar es:\", desviacion)\n",
    "print(\"Valores atípicos:\", valores_atipicos)"
   ]
  },
  {
   "cell_type": "markdown",
   "metadata": {
    "id": "ltzE201veNyz"
   },
   "source": [
    "### **Ejercicio - Cálculo del PIB per Cápita**\n",
    "Dados el PIB (en millones de USD) [500, 320, 700, 450] y la población (en millones) [10, 8, 12, 9] de 4 países, calculen el PIB per cápita y determinen el país con el mayor valor."
   ]
  },
  {
   "cell_type": "code",
   "execution_count": 106,
   "metadata": {
    "id": "TMl-OWMpeOcP"
   },
   "outputs": [
    {
     "name": "stdout",
     "output_type": "stream",
     "text": [
      "PIB per cápita: [50.         40.         58.33333333 50.        ]\n",
      "El país con el PIB per cápita más alto es: 2\n"
     ]
    }
   ],
   "source": [
    "pib = np.array([500, 320, 700, 450])\n",
    "poblacion = np.array([10, 8, 12, 9])\n",
    "pib_per_capita = pib / poblacion\n",
    "print(\"PIB per cápita:\", pib_per_capita)\n",
    "\n",
    "pais_maximo = np.argmax(pib_per_capita)\n",
    "print(\"El país con el PIB per cápita más alto es:\", pais_maximo)"
   ]
  },
  {
   "cell_type": "markdown",
   "metadata": {
    "id": "7AP-dS9HgAO9"
   },
   "source": [
    "### **Ejercicio - Sistema de Drops (Probabilidades)**\n",
    "En un videojuego RPG, los enemigos al ser vencidos, pueden dropear (soltar):\n",
    "- 0 = Nada (50%).\n",
    "- 1 = Poción (30%).\n",
    "- 2 = Arma (15%).\n",
    "- 3 = Artefacto (5%).\n",
    "\n",
    "Simula 100 drops y cuenta cuántos artefactos se obtuvieron.\n",
    "\n",
    "*Ejemplo de salida*:\n",
    "\n",
    "```\n",
    "Artifactos obtenidos: 3\n",
    "```\n",
    "\n"
   ]
  },
  {
   "cell_type": "code",
   "execution_count": 121,
   "metadata": {
    "id": "828OGOwUgPBV"
   },
   "outputs": [
    {
     "name": "stdout",
     "output_type": "stream",
     "text": [
      "Total de artefactos: 11\n"
     ]
    }
   ],
   "source": [
    "# Solución usando np.random.choice\n",
    "drops_probabilidad = np.array([0.50, 0.30, 0.15, 0.05])\n",
    "\n",
    "#np.random.choice genera un array de 100 elementos aleatorios\n",
    "# donde cada elemento es un drop entre 0 y 3, con probabilidades dadas por drops_probabilidad\n",
    "simulacion = np.random.choice([0, 1, 2, 3], size = 100, p = drops_probabilidad)\n",
    "\n",
    "# np.sum cuenta cuántos elementos son iguales al drop 3\n",
    "total_artefactos = np.sum(simulacion == 3)\n",
    "print(\"Total de artefactos:\", total_artefactos)"
   ]
  }
 ],
 "metadata": {
  "colab": {
   "provenance": []
  },
  "kernelspec": {
   "display_name": "venv",
   "language": "python",
   "name": "python3"
  },
  "language_info": {
   "codemirror_mode": {
    "name": "ipython",
    "version": 3
   },
   "file_extension": ".py",
   "mimetype": "text/x-python",
   "name": "python",
   "nbconvert_exporter": "python",
   "pygments_lexer": "ipython3",
   "version": "3.12.3"
  }
 },
 "nbformat": 4,
 "nbformat_minor": 0
}
