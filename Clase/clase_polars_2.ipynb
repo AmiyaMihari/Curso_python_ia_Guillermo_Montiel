{
 "cells": [
  {
   "cell_type": "markdown",
   "id": "c3355cec",
   "metadata": {},
   "source": [
    "# Clase polars 2"
   ]
  },
  {
   "cell_type": "code",
   "execution_count": 1,
   "id": "8c567e48",
   "metadata": {},
   "outputs": [],
   "source": [
    "import polars as pl"
   ]
  },
  {
   "cell_type": "code",
   "execution_count": 2,
   "id": "0d4ad97b",
   "metadata": {},
   "outputs": [
    {
     "data": {
      "text/html": [
       "<div><style>\n",
       ".dataframe > thead > tr,\n",
       ".dataframe > tbody > tr {\n",
       "  text-align: right;\n",
       "  white-space: pre-wrap;\n",
       "}\n",
       "</style>\n",
       "<small>shape: (3, 3)</small><table border=\"1\" class=\"dataframe\"><thead><tr><th>a</th><th>b</th><th>suma</th></tr><tr><td>i64</td><td>i64</td><td>i64</td></tr></thead><tbody><tr><td>3</td><td>3</td><td>6</td></tr><tr><td>4</td><td>2</td><td>6</td></tr><tr><td>5</td><td>1</td><td>6</td></tr></tbody></table></div>"
      ],
      "text/plain": [
       "shape: (3, 3)\n",
       "┌─────┬─────┬──────┐\n",
       "│ a   ┆ b   ┆ suma │\n",
       "│ --- ┆ --- ┆ ---  │\n",
       "│ i64 ┆ i64 ┆ i64  │\n",
       "╞═════╪═════╪══════╡\n",
       "│ 3   ┆ 3   ┆ 6    │\n",
       "│ 4   ┆ 2   ┆ 6    │\n",
       "│ 5   ┆ 1   ┆ 6    │\n",
       "└─────┴─────┴──────┘"
      ]
     },
     "execution_count": 2,
     "metadata": {},
     "output_type": "execute_result"
    }
   ],
   "source": [
    "# Crear un DataFrame en modo perezoso\n",
    "df_lazy = pl.DataFrame({\n",
    "   \"a\": [1, 2, 3, 4, 5],\n",
    "   \"b\": [5, 4, 3, 2, 1]\n",
    "}).lazy()\n",
    "\n",
    "# Aplicar transformaciones (sin ejecutar aún)\n",
    "df_transformed = df_lazy.filter(\n",
    "    pl.col(\"a\") > 2\n",
    ").with_columns(\n",
    "    (pl.col(\"a\") + pl.col(\"b\")).alias(\"suma\")\n",
    ")\n",
    "\n",
    "# Al invocar collect(), las transformaciones se ejecutan\n",
    "result = df_transformed\n",
    "\n",
    "# Crear resultados\n",
    "df_final = result.collect()\n",
    "df_final"
   ]
  },
  {
   "cell_type": "code",
   "execution_count": 9,
   "id": "d2aa5043",
   "metadata": {},
   "outputs": [
    {
     "name": "stdout",
     "output_type": "stream",
     "text": [
      "shape: (3, 3)\n",
      "┌────────┬───────────────────┬───────┐\n",
      "│ nombre ┆ promedio_ingresos ┆ IVA   │\n",
      "│ ---    ┆ ---               ┆ ---   │\n",
      "│ str    ┆ f64               ┆ f64   │\n",
      "╞════════╪═══════════════════╪═══════╡\n",
      "│ Luis   ┆ 4333.333333       ┆ 480.0 │\n",
      "│ Carlos ┆ 4333.333333       ┆ 640.0 │\n",
      "│ José   ┆ 4333.333333       ┆ 960.0 │\n",
      "└────────┴───────────────────┴───────┘\n"
     ]
    }
   ],
   "source": [
    "# Crear un DataFrame con más columnas\n",
    "df_lazy = pl.DataFrame({\n",
    "    \"nombre\": [\"Ana\", \"Luis\", \"Carlos\", \"Marta\", \"José\"],\n",
    "    \"edad\": [23, 34, 45, 28, 60],\n",
    "    \"ingresos\": [2000, 3000, 4000, 5000, 6000]\n",
    "}).lazy()\n",
    "\n",
    "# Filtrar filas donde la edad sea mayor a 30, seleccionar nombre y promedio de ingresos\n",
    "df_result = df_lazy.filter(\n",
    "    pl.col(\"edad\") > 30\n",
    ").select([\n",
    "    pl.col(\"nombre\"), \n",
    "    pl.col(\"ingresos\").mean().alias(\"promedio_ingresos\"),\n",
    "    (pl.col(\"ingresos\") * 0.16).alias(\"IVA\")\n",
    "])\n",
    "\n",
    "# Ejecutar el LazyFrame y ver el resultado\n",
    "df_result = df_result.collect()\n",
    "print(df_result)"
   ]
  }
 ],
 "metadata": {
  "kernelspec": {
   "display_name": ".venv",
   "language": "python",
   "name": "python3"
  },
  "language_info": {
   "codemirror_mode": {
    "name": "ipython",
    "version": 3
   },
   "file_extension": ".py",
   "mimetype": "text/x-python",
   "name": "python",
   "nbconvert_exporter": "python",
   "pygments_lexer": "ipython3",
   "version": "3.12.3"
  }
 },
 "nbformat": 4,
 "nbformat_minor": 5
}
