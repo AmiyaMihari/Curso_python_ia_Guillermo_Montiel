{
 "cells": [
  {
   "cell_type": "markdown",
   "id": "99e9ff6d",
   "metadata": {},
   "source": [
    "# Introducción a Polars"
   ]
  },
  {
   "cell_type": "code",
   "execution_count": 21,
   "id": "9db3a91e",
   "metadata": {},
   "outputs": [],
   "source": [
    "import polars as pl"
   ]
  },
  {
   "cell_type": "markdown",
   "id": "99b9dc38",
   "metadata": {},
   "source": [
    "# Series"
   ]
  },
  {
   "cell_type": "code",
   "execution_count": 12,
   "id": "70e4d61b",
   "metadata": {},
   "outputs": [
    {
     "data": {
      "text/html": [
       "<div><style>\n",
       ".dataframe > thead > tr,\n",
       ".dataframe > tbody > tr {\n",
       "  text-align: right;\n",
       "  white-space: pre-wrap;\n",
       "}\n",
       "</style>\n",
       "<small>shape: (5,)</small><table border=\"1\" class=\"dataframe\"><thead><tr><th>mi_serie</th></tr><tr><td>i64</td></tr></thead><tbody><tr><td>1</td></tr><tr><td>2</td></tr><tr><td>3</td></tr><tr><td>4</td></tr><tr><td>5</td></tr></tbody></table></div>"
      ],
      "text/plain": [
       "shape: (5,)\n",
       "Series: 'mi_serie' [i64]\n",
       "[\n",
       "\t1\n",
       "\t2\n",
       "\t3\n",
       "\t4\n",
       "\t5\n",
       "]"
      ]
     },
     "execution_count": 12,
     "metadata": {},
     "output_type": "execute_result"
    }
   ],
   "source": [
    "serie = pl.Series(\n",
    "    name=\"mi_serie\",\n",
    "    values=[1, 2, 3, 4, 5]\n",
    ")\n",
    "serie"
   ]
  },
  {
   "cell_type": "markdown",
   "id": "a4a54759",
   "metadata": {},
   "source": [
    "# Operaciones con series"
   ]
  },
  {
   "cell_type": "code",
   "execution_count": 11,
   "id": "6028d2ed",
   "metadata": {},
   "outputs": [
    {
     "name": "stdout",
     "output_type": "stream",
     "text": [
      "shape: (3,)\n",
      "Series: 'mi_serie' [i64]\n",
      "[\n",
      "\t3\n",
      "\t4\n",
      "\t5\n",
      "]\n"
     ]
    }
   ],
   "source": [
    "serie.filter(\n",
    "    serie > 3\n",
    ")\n",
    "\n",
    "print(serie.filter(serie > 2))"
   ]
  },
  {
   "cell_type": "markdown",
   "id": "79db837d",
   "metadata": {},
   "source": [
    "# Dataframes"
   ]
  },
  {
   "cell_type": "code",
   "execution_count": 24,
   "id": "47f64729",
   "metadata": {},
   "outputs": [
    {
     "data": {
      "text/html": [
       "<div><style>\n",
       ".dataframe > thead > tr,\n",
       ".dataframe > tbody > tr {\n",
       "  text-align: right;\n",
       "  white-space: pre-wrap;\n",
       "}\n",
       "</style>\n",
       "<small>shape: (4, 4)</small><table border=\"1\" class=\"dataframe\"><thead><tr><th>Pokemon</th><th>Tipo 1</th><th>Tipo 2</th><th>HP</th></tr><tr><td>str</td><td>str</td><td>str</td><td>i64</td></tr></thead><tbody><tr><td>&quot;Pikachu&quot;</td><td>&quot;Electric&quot;</td><td>null</td><td>35</td></tr><tr><td>&quot;Charmander&quot;</td><td>&quot;Fire&quot;</td><td>null</td><td>39</td></tr><tr><td>&quot;Squirtle&quot;</td><td>&quot;Water&quot;</td><td>null</td><td>44</td></tr><tr><td>&quot;Bulbasaur&quot;</td><td>&quot;Grass&quot;</td><td>&quot;Poison&quot;</td><td>45</td></tr></tbody></table></div>"
      ],
      "text/plain": [
       "shape: (4, 4)\n",
       "┌────────────┬──────────┬────────┬─────┐\n",
       "│ Pokemon    ┆ Tipo 1   ┆ Tipo 2 ┆ HP  │\n",
       "│ ---        ┆ ---      ┆ ---    ┆ --- │\n",
       "│ str        ┆ str      ┆ str    ┆ i64 │\n",
       "╞════════════╪══════════╪════════╪═════╡\n",
       "│ Pikachu    ┆ Electric ┆ null   ┆ 35  │\n",
       "│ Charmander ┆ Fire     ┆ null   ┆ 39  │\n",
       "│ Squirtle   ┆ Water    ┆ null   ┆ 44  │\n",
       "│ Bulbasaur  ┆ Grass    ┆ Poison ┆ 45  │\n",
       "└────────────┴──────────┴────────┴─────┘"
      ]
     },
     "execution_count": 24,
     "metadata": {},
     "output_type": "execute_result"
    }
   ],
   "source": [
    "df = pl.DataFrame(\n",
    "    {\n",
    "        \"Pokemon\": [\"Pikachu\", \"Charmander\", \"Squirtle\", \"Bulbasaur\"],\n",
    "        \"Tipo 1\": [\"Electric\", \"Fire\", \"Water\", \"Grass\"],\n",
    "        \"Tipo 2\": [None, None, None, \"Poison\"],\n",
    "        \"HP\": [35, 39, 44, 45],\n",
    "    }\n",
    ")\n",
    "df"
   ]
  },
  {
   "cell_type": "code",
   "execution_count": 50,
   "id": "62dfd2fb",
   "metadata": {},
   "outputs": [
    {
     "data": {
      "text/html": [
       "<div><style>\n",
       ".dataframe > thead > tr,\n",
       ".dataframe > tbody > tr {\n",
       "  text-align: right;\n",
       "  white-space: pre-wrap;\n",
       "}\n",
       "</style>\n",
       "<small>shape: (4, 4)</small><table border=\"1\" class=\"dataframe\"><thead><tr><th>Pokemon</th><th>Tipo 1</th><th>Tipo 2</th><th>HP</th></tr><tr><td>str</td><td>str</td><td>str</td><td>i32</td></tr></thead><tbody><tr><td>&quot;Pikachu&quot;</td><td>&quot;Electric&quot;</td><td>null</td><td>35</td></tr><tr><td>&quot;Charmander&quot;</td><td>&quot;Fire&quot;</td><td>null</td><td>39</td></tr><tr><td>&quot;Squirtle&quot;</td><td>&quot;Water&quot;</td><td>null</td><td>44</td></tr><tr><td>&quot;Bulbasaur&quot;</td><td>&quot;Grass&quot;</td><td>null</td><td>45</td></tr></tbody></table></div>"
      ],
      "text/plain": [
       "shape: (4, 4)\n",
       "┌────────────┬──────────┬────────┬─────┐\n",
       "│ Pokemon    ┆ Tipo 1   ┆ Tipo 2 ┆ HP  │\n",
       "│ ---        ┆ ---      ┆ ---    ┆ --- │\n",
       "│ str        ┆ str      ┆ str    ┆ i32 │\n",
       "╞════════════╪══════════╪════════╪═════╡\n",
       "│ Pikachu    ┆ Electric ┆ null   ┆ 35  │\n",
       "│ Charmander ┆ Fire     ┆ null   ┆ 39  │\n",
       "│ Squirtle   ┆ Water    ┆ null   ┆ 44  │\n",
       "│ Bulbasaur  ┆ Grass    ┆ null   ┆ 45  │\n",
       "└────────────┴──────────┴────────┴─────┘"
      ]
     },
     "execution_count": 50,
     "metadata": {},
     "output_type": "execute_result"
    }
   ],
   "source": [
    "df = pl.DataFrame(\n",
    "    {\n",
    "        \"Pokemon\": [\"Pikachu\", \"Charmander\", \"Squirtle\", \"Bulbasaur\"],\n",
    "        \"Tipo 1\": [\"Electric\", \"Fire\", \"Water\", \"Grass\"],\n",
    "        \"Tipo 2\": [None, None, None, None],\n",
    "        \"HP\": [35, 39, 44, 45],\n",
    "    },\n",
    "    schema = {\n",
    "        \"Pokemon\": pl.Utf8,\n",
    "        \"Tipo 1\": pl.Utf8,\n",
    "        \"Tipo 2\": pl.Utf8,\n",
    "        \"HP\": pl.Int32,\n",
    "    }\n",
    ")\n",
    "df"
   ]
  },
  {
   "cell_type": "code",
   "execution_count": 51,
   "id": "2a42d3e9",
   "metadata": {},
   "outputs": [
    {
     "data": {
      "text/html": [
       "<div><style>\n",
       ".dataframe > thead > tr,\n",
       ".dataframe > tbody > tr {\n",
       "  text-align: right;\n",
       "  white-space: pre-wrap;\n",
       "}\n",
       "</style>\n",
       "<small>shape: (4, 4)</small><table border=\"1\" class=\"dataframe\"><thead><tr><th>Pokemon</th><th>Tipo 1</th><th>Tipo 2</th><th>HP</th></tr><tr><td>str</td><td>str</td><td>str</td><td>i32</td></tr></thead><tbody><tr><td>&quot;Pikachu&quot;</td><td>&quot;Electric&quot;</td><td>null</td><td>0</td></tr><tr><td>&quot;Charmander&quot;</td><td>&quot;Fire&quot;</td><td>null</td><td>4</td></tr><tr><td>&quot;Squirtle&quot;</td><td>&quot;Water&quot;</td><td>null</td><td>9</td></tr><tr><td>&quot;Bulbasaur&quot;</td><td>&quot;Grass&quot;</td><td>null</td><td>10</td></tr></tbody></table></div>"
      ],
      "text/plain": [
       "shape: (4, 4)\n",
       "┌────────────┬──────────┬────────┬─────┐\n",
       "│ Pokemon    ┆ Tipo 1   ┆ Tipo 2 ┆ HP  │\n",
       "│ ---        ┆ ---      ┆ ---    ┆ --- │\n",
       "│ str        ┆ str      ┆ str    ┆ i32 │\n",
       "╞════════════╪══════════╪════════╪═════╡\n",
       "│ Pikachu    ┆ Electric ┆ null   ┆ 0   │\n",
       "│ Charmander ┆ Fire     ┆ null   ┆ 4   │\n",
       "│ Squirtle   ┆ Water    ┆ null   ┆ 9   │\n",
       "│ Bulbasaur  ┆ Grass    ┆ null   ┆ 10  │\n",
       "└────────────┴──────────┴────────┴─────┘"
      ]
     },
     "execution_count": 51,
     "metadata": {},
     "output_type": "execute_result"
    }
   ],
   "source": [
    "# Simular que le pegaron al Pokemon, le bajaron 35 HP, y si sí poner que está vivo\n",
    "df = df.with_columns(\n",
    "    pl.col(\"HP\") - 35\n",
    "\n",
    ")\n",
    "df"
   ]
  },
  {
   "cell_type": "code",
   "execution_count": 52,
   "id": "43fe0071",
   "metadata": {},
   "outputs": [
    {
     "data": {
      "text/html": [
       "<div><style>\n",
       ".dataframe > thead > tr,\n",
       ".dataframe > tbody > tr {\n",
       "  text-align: right;\n",
       "  white-space: pre-wrap;\n",
       "}\n",
       "</style>\n",
       "<small>shape: (4, 5)</small><table border=\"1\" class=\"dataframe\"><thead><tr><th>Pokemon</th><th>Tipo 1</th><th>Tipo 2</th><th>HP</th><th>Estado</th></tr><tr><td>str</td><td>str</td><td>str</td><td>i32</td><td>str</td></tr></thead><tbody><tr><td>&quot;Pikachu&quot;</td><td>&quot;Electric&quot;</td><td>null</td><td>0</td><td>&quot;Muerto&quot;</td></tr><tr><td>&quot;Charmander&quot;</td><td>&quot;Fire&quot;</td><td>null</td><td>4</td><td>&quot;Vivo&quot;</td></tr><tr><td>&quot;Squirtle&quot;</td><td>&quot;Water&quot;</td><td>null</td><td>9</td><td>&quot;Vivo&quot;</td></tr><tr><td>&quot;Bulbasaur&quot;</td><td>&quot;Grass&quot;</td><td>null</td><td>10</td><td>&quot;Vivo&quot;</td></tr></tbody></table></div>"
      ],
      "text/plain": [
       "shape: (4, 5)\n",
       "┌────────────┬──────────┬────────┬─────┬────────┐\n",
       "│ Pokemon    ┆ Tipo 1   ┆ Tipo 2 ┆ HP  ┆ Estado │\n",
       "│ ---        ┆ ---      ┆ ---    ┆ --- ┆ ---    │\n",
       "│ str        ┆ str      ┆ str    ┆ i32 ┆ str    │\n",
       "╞════════════╪══════════╪════════╪═════╪════════╡\n",
       "│ Pikachu    ┆ Electric ┆ null   ┆ 0   ┆ Muerto │\n",
       "│ Charmander ┆ Fire     ┆ null   ┆ 4   ┆ Vivo   │\n",
       "│ Squirtle   ┆ Water    ┆ null   ┆ 9   ┆ Vivo   │\n",
       "│ Bulbasaur  ┆ Grass    ┆ null   ┆ 10  ┆ Vivo   │\n",
       "└────────────┴──────────┴────────┴─────┴────────┘"
      ]
     },
     "execution_count": 52,
     "metadata": {},
     "output_type": "execute_result"
    }
   ],
   "source": [
    "# Agregar si está vivo o muerto\n",
    "df = df.with_columns(\n",
    "    pl.when(\n",
    "        pl.col(\"HP\") > 0\n",
    "    ).then(\n",
    "        pl.lit(\"Vivo\")\n",
    "    ).otherwise(\n",
    "        pl.lit(\"Muerto\")\n",
    "    ).alias(\"Estado\")\n",
    ")\n",
    "\n",
    "df"
   ]
  },
  {
   "cell_type": "code",
   "execution_count": 53,
   "id": "c629f936",
   "metadata": {},
   "outputs": [
    {
     "data": {
      "text/html": [
       "<div><style>\n",
       ".dataframe > thead > tr,\n",
       ".dataframe > tbody > tr {\n",
       "  text-align: right;\n",
       "  white-space: pre-wrap;\n",
       "}\n",
       "</style>\n",
       "<small>shape: (4, 6)</small><table border=\"1\" class=\"dataframe\"><thead><tr><th>Pokemon</th><th>Tipo 1</th><th>Tipo 2</th><th>HP</th><th>Estado</th><th>Es Mascota</th></tr><tr><td>str</td><td>str</td><td>str</td><td>i32</td><td>str</td><td>bool</td></tr></thead><tbody><tr><td>&quot;Pikachu&quot;</td><td>&quot;Electric&quot;</td><td>null</td><td>0</td><td>&quot;Muerto&quot;</td><td>true</td></tr><tr><td>&quot;Charmander&quot;</td><td>&quot;Fire&quot;</td><td>null</td><td>4</td><td>&quot;Vivo&quot;</td><td>false</td></tr><tr><td>&quot;Squirtle&quot;</td><td>&quot;Water&quot;</td><td>null</td><td>9</td><td>&quot;Vivo&quot;</td><td>false</td></tr><tr><td>&quot;Bulbasaur&quot;</td><td>&quot;Grass&quot;</td><td>null</td><td>10</td><td>&quot;Vivo&quot;</td><td>false</td></tr></tbody></table></div>"
      ],
      "text/plain": [
       "shape: (4, 6)\n",
       "┌────────────┬──────────┬────────┬─────┬────────┬────────────┐\n",
       "│ Pokemon    ┆ Tipo 1   ┆ Tipo 2 ┆ HP  ┆ Estado ┆ Es Mascota │\n",
       "│ ---        ┆ ---      ┆ ---    ┆ --- ┆ ---    ┆ ---        │\n",
       "│ str        ┆ str      ┆ str    ┆ i32 ┆ str    ┆ bool       │\n",
       "╞════════════╪══════════╪════════╪═════╪════════╪════════════╡\n",
       "│ Pikachu    ┆ Electric ┆ null   ┆ 0   ┆ Muerto ┆ true       │\n",
       "│ Charmander ┆ Fire     ┆ null   ┆ 4   ┆ Vivo   ┆ false      │\n",
       "│ Squirtle   ┆ Water    ┆ null   ┆ 9   ┆ Vivo   ┆ false      │\n",
       "│ Bulbasaur  ┆ Grass    ┆ null   ┆ 10  ┆ Vivo   ┆ false      │\n",
       "└────────────┴──────────┴────────┴─────┴────────┴────────────┘"
      ]
     },
     "execution_count": 53,
     "metadata": {},
     "output_type": "execute_result"
    }
   ],
   "source": [
    "# Columna para decir si es la mascota de Pokemon o no (Pikachu)\n",
    "df = df.with_columns(\n",
    "    pl.when(\n",
    "        pl.col(\"Pokemon\") == \"Pikachu\"\n",
    "    ).then(\n",
    "        pl.lit(True)\n",
    "    ).otherwise(\n",
    "        pl.lit(False)\n",
    "    ).alias(\"Es Mascota\")\n",
    ")\n",
    "df"
   ]
  },
  {
   "cell_type": "markdown",
   "id": "b46d1782",
   "metadata": {},
   "source": [
    "# Filtrado"
   ]
  },
  {
   "cell_type": "code",
   "execution_count": 54,
   "id": "97da582b",
   "metadata": {},
   "outputs": [
    {
     "data": {
      "text/html": [
       "<div><style>\n",
       ".dataframe > thead > tr,\n",
       ".dataframe > tbody > tr {\n",
       "  text-align: right;\n",
       "  white-space: pre-wrap;\n",
       "}\n",
       "</style>\n",
       "<small>shape: (4, 6)</small><table border=\"1\" class=\"dataframe\"><thead><tr><th>Pokemon</th><th>Tipo 1</th><th>Tipo 2</th><th>HP</th><th>Estado</th><th>Es Mascota</th></tr><tr><td>str</td><td>str</td><td>str</td><td>i32</td><td>str</td><td>bool</td></tr></thead><tbody><tr><td>&quot;Pikachu&quot;</td><td>&quot;Electric&quot;</td><td>null</td><td>0</td><td>&quot;Muerto&quot;</td><td>true</td></tr><tr><td>&quot;Charmander&quot;</td><td>&quot;Fire&quot;</td><td>null</td><td>4</td><td>&quot;Vivo&quot;</td><td>false</td></tr><tr><td>&quot;Squirtle&quot;</td><td>&quot;Water&quot;</td><td>null</td><td>9</td><td>&quot;Vivo&quot;</td><td>false</td></tr><tr><td>&quot;Bulbasaur&quot;</td><td>&quot;Grass&quot;</td><td>null</td><td>10</td><td>&quot;Vivo&quot;</td><td>false</td></tr></tbody></table></div>"
      ],
      "text/plain": [
       "shape: (4, 6)\n",
       "┌────────────┬──────────┬────────┬─────┬────────┬────────────┐\n",
       "│ Pokemon    ┆ Tipo 1   ┆ Tipo 2 ┆ HP  ┆ Estado ┆ Es Mascota │\n",
       "│ ---        ┆ ---      ┆ ---    ┆ --- ┆ ---    ┆ ---        │\n",
       "│ str        ┆ str      ┆ str    ┆ i32 ┆ str    ┆ bool       │\n",
       "╞════════════╪══════════╪════════╪═════╪════════╪════════════╡\n",
       "│ Pikachu    ┆ Electric ┆ null   ┆ 0   ┆ Muerto ┆ true       │\n",
       "│ Charmander ┆ Fire     ┆ null   ┆ 4   ┆ Vivo   ┆ false      │\n",
       "│ Squirtle   ┆ Water    ┆ null   ┆ 9   ┆ Vivo   ┆ false      │\n",
       "│ Bulbasaur  ┆ Grass    ┆ null   ┆ 10  ┆ Vivo   ┆ false      │\n",
       "└────────────┴──────────┴────────┴─────┴────────┴────────────┘"
      ]
     },
     "execution_count": 54,
     "metadata": {},
     "output_type": "execute_result"
    }
   ],
   "source": [
    "# Ver que pokemones tienen más de 5 de HP\n",
    "df.filter(\n",
    "    pl.col(\"HP\") > 5\n",
    ")\n",
    "df"
   ]
  },
  {
   "cell_type": "code",
   "execution_count": 56,
   "id": "1bd19ac4",
   "metadata": {},
   "outputs": [
    {
     "ename": "PanicException",
     "evalue": "Failed to access NumPy array API capsule: PyErr { type: <class 'ModuleNotFoundError'>, value: ModuleNotFoundError(\"No module named 'numpy'\"), traceback: None }",
     "output_type": "error",
     "traceback": [
      "\u001b[31m---------------------------------------------------------------------------\u001b[39m",
      "\u001b[31mPanicException\u001b[39m                            Traceback (most recent call last)",
      "\u001b[36mCell\u001b[39m\u001b[36m \u001b[39m\u001b[32mIn[56]\u001b[39m\u001b[32m, line 15\u001b[39m\n\u001b[32m     12\u001b[39m df = df.with_columns(pl.col(\u001b[33m\"\u001b[39m\u001b[33mb\u001b[39m\u001b[33m\"\u001b[39m).log().alias(\u001b[33m\"\u001b[39m\u001b[33mlog_b\u001b[39m\u001b[33m\"\u001b[39m))\n\u001b[32m     14\u001b[39m \u001b[38;5;66;03m# Operación estadística (media de la columna \"a\")\u001b[39;00m\n\u001b[32m---> \u001b[39m\u001b[32m15\u001b[39m mean_a = \u001b[43mdf\u001b[49m\u001b[43m.\u001b[49m\u001b[43mselect\u001b[49m\u001b[43m(\u001b[49m\u001b[43mpl\u001b[49m\u001b[43m.\u001b[49m\u001b[43mcol\u001b[49m\u001b[43m(\u001b[49m\u001b[33;43m\"\u001b[39;49m\u001b[33;43ma\u001b[39;49m\u001b[33;43m\"\u001b[39;49m\u001b[43m)\u001b[49m\u001b[43m.\u001b[49m\u001b[43mmean\u001b[49m\u001b[43m(\u001b[49m\u001b[43m)\u001b[49m\u001b[43m)\u001b[49m\u001b[43m.\u001b[49m\u001b[43mto_numpy\u001b[49m\u001b[43m(\u001b[49m\u001b[43m)\u001b[49m\n\u001b[32m     17\u001b[39m \u001b[38;5;28mprint\u001b[39m(df)\n\u001b[32m     18\u001b[39m \u001b[38;5;28mprint\u001b[39m(mean_a)\n",
      "\u001b[36mFile \u001b[39m\u001b[32mc:\\Users\\Jair\\Desktop\\Programming\\Python\\Curso_python_ia_Guillermo_Montiel\\venv\\Lib\\site-packages\\polars\\dataframe\\frame.py:1914\u001b[39m, in \u001b[36mDataFrame.to_numpy\u001b[39m\u001b[34m(self, order, writable, allow_copy, structured, use_pyarrow)\u001b[39m\n\u001b[32m   1911\u001b[39m         out[c] = arrays[idx]\n\u001b[32m   1912\u001b[39m     \u001b[38;5;28;01mreturn\u001b[39;00m out\n\u001b[32m-> \u001b[39m\u001b[32m1914\u001b[39m \u001b[38;5;28;01mreturn\u001b[39;00m \u001b[38;5;28;43mself\u001b[39;49m\u001b[43m.\u001b[49m\u001b[43m_df\u001b[49m\u001b[43m.\u001b[49m\u001b[43mto_numpy\u001b[49m\u001b[43m(\u001b[49m\u001b[43morder\u001b[49m\u001b[43m,\u001b[49m\u001b[43m \u001b[49m\u001b[43mwritable\u001b[49m\u001b[43m=\u001b[49m\u001b[43mwritable\u001b[49m\u001b[43m,\u001b[49m\u001b[43m \u001b[49m\u001b[43mallow_copy\u001b[49m\u001b[43m=\u001b[49m\u001b[43mallow_copy\u001b[49m\u001b[43m)\u001b[49m\n",
      "\u001b[31mPanicException\u001b[39m: Failed to access NumPy array API capsule: PyErr { type: <class 'ModuleNotFoundError'>, value: ModuleNotFoundError(\"No module named 'numpy'\"), traceback: None }"
     ]
    }
   ],
   "source": [
    "df = pl.DataFrame({\n",
    "    \"a\": [1, 2, 3, 4, 5],\n",
    "    \"b\": [5, 4, 3, 2, 1],\n",
    "})\n",
    "\n",
    "# Operaciones aritméticas (suma de columnas)\n",
    "df = df.with_columns(\n",
    "    (pl.col(\"a\") + pl.col(\"b\")).alias(\"suma\")\n",
    ")\n",
    "\n",
    "# Transformación: nueva columna con el logaritmo de \"b\"\n",
    "df = df.with_columns(pl.col(\"b\").log().alias(\"log_b\"))\n",
    "\n",
    "# Operación estadística (media de la columna \"a\")\n",
    "mean_a = df.select(pl.col(\"a\").mean()).to_numpy()\n",
    "\n",
    "print(df)\n",
    "print(mean_a)"
   ]
  }
 ],
 "metadata": {
  "kernelspec": {
   "display_name": "venv",
   "language": "python",
   "name": "python3"
  },
  "language_info": {
   "codemirror_mode": {
    "name": "ipython",
    "version": 3
   },
   "file_extension": ".py",
   "mimetype": "text/x-python",
   "name": "python",
   "nbconvert_exporter": "python",
   "pygments_lexer": "ipython3",
   "version": "3.13.3"
  }
 },
 "nbformat": 4,
 "nbformat_minor": 5
}
