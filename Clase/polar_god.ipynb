{
 "cells": [
  {
   "cell_type": "markdown",
   "metadata": {},
   "source": [
    "# Polars UwU"
   ]
  },
  {
   "cell_type": "code",
   "execution_count": 2,
   "metadata": {},
   "outputs": [],
   "source": [
    "import polars as pl"
   ]
  },
  {
   "cell_type": "markdown",
   "metadata": {},
   "source": [
    "## Series"
   ]
  },
  {
   "cell_type": "code",
   "execution_count": 3,
   "metadata": {},
   "outputs": [
    {
     "data": {
      "text/html": [
       "<div><style>\n",
       ".dataframe > thead > tr,\n",
       ".dataframe > tbody > tr {\n",
       "  text-align: right;\n",
       "  white-space: pre-wrap;\n",
       "}\n",
       "</style>\n",
       "<small>shape: (5,)</small><table border=\"1\" class=\"dataframe\"><thead><tr><th>mi_serie</th></tr><tr><td>i64</td></tr></thead><tbody><tr><td>1</td></tr><tr><td>2</td></tr><tr><td>3</td></tr><tr><td>4</td></tr><tr><td>5</td></tr></tbody></table></div>"
      ],
      "text/plain": [
       "shape: (5,)\n",
       "Series: 'mi_serie' [i64]\n",
       "[\n",
       "\t1\n",
       "\t2\n",
       "\t3\n",
       "\t4\n",
       "\t5\n",
       "]"
      ]
     },
     "execution_count": 3,
     "metadata": {},
     "output_type": "execute_result"
    }
   ],
   "source": [
    "serie = pl.Series(\n",
    "    name=\"mi_serie\",\n",
    "    values=[1, 2, 3, 4, 5]\n",
    ")\n",
    "serie"
   ]
  },
  {
   "cell_type": "markdown",
   "metadata": {},
   "source": [
    "## Operaciones con series"
   ]
  },
  {
   "cell_type": "code",
   "execution_count": 4,
   "metadata": {},
   "outputs": [
    {
     "name": "stdout",
     "output_type": "stream",
     "text": [
      "shape: (2,)\n",
      "Series: 'mi_serie' [i64]\n",
      "[\n",
      "\t4\n",
      "\t5\n",
      "]\n",
      "shape: (1,)\n",
      "Series: 'mi_serie' [i64]\n",
      "[\n",
      "\t1\n",
      "]\n",
      "El valor máximo de la serie es: 5\n"
     ]
    }
   ],
   "source": [
    "print(\n",
    "    serie.filter(\n",
    "        serie > 3\n",
    "    )\n",
    ")\n",
    "\n",
    "print(\n",
    "    serie.filter(\n",
    "        serie < 2\n",
    "    )\n",
    ")\n",
    "\n",
    "\n",
    "print( f\"El valor máximo de la serie es: {serie.max()}\" )"
   ]
  },
  {
   "cell_type": "markdown",
   "metadata": {},
   "source": [
    "## DataFrames"
   ]
  },
  {
   "cell_type": "code",
   "execution_count": 5,
   "metadata": {},
   "outputs": [
    {
     "data": {
      "text/html": [
       "<div><style>\n",
       ".dataframe > thead > tr,\n",
       ".dataframe > tbody > tr {\n",
       "  text-align: right;\n",
       "  white-space: pre-wrap;\n",
       "}\n",
       "</style>\n",
       "<small>shape: (4, 4)</small><table border=\"1\" class=\"dataframe\"><thead><tr><th>Pokemon</th><th>Tipo 1</th><th>Tipo 2</th><th>HP</th></tr><tr><td>str</td><td>str</td><td>str</td><td>i32</td></tr></thead><tbody><tr><td>&quot;Pikachu&quot;</td><td>&quot;Electric&quot;</td><td>null</td><td>35</td></tr><tr><td>&quot;Charmander&quot;</td><td>&quot;Fire&quot;</td><td>null</td><td>39</td></tr><tr><td>&quot;Squirtle&quot;</td><td>&quot;Water&quot;</td><td>null</td><td>44</td></tr><tr><td>&quot;Bulbausaur&quot;</td><td>&quot;Grass&quot;</td><td>&quot;Poision&quot;</td><td>45</td></tr></tbody></table></div>"
      ],
      "text/plain": [
       "shape: (4, 4)\n",
       "┌────────────┬──────────┬─────────┬─────┐\n",
       "│ Pokemon    ┆ Tipo 1   ┆ Tipo 2  ┆ HP  │\n",
       "│ ---        ┆ ---      ┆ ---     ┆ --- │\n",
       "│ str        ┆ str      ┆ str     ┆ i32 │\n",
       "╞════════════╪══════════╪═════════╪═════╡\n",
       "│ Pikachu    ┆ Electric ┆ null    ┆ 35  │\n",
       "│ Charmander ┆ Fire     ┆ null    ┆ 39  │\n",
       "│ Squirtle   ┆ Water    ┆ null    ┆ 44  │\n",
       "│ Bulbausaur ┆ Grass    ┆ Poision ┆ 45  │\n",
       "└────────────┴──────────┴─────────┴─────┘"
      ]
     },
     "execution_count": 5,
     "metadata": {},
     "output_type": "execute_result"
    }
   ],
   "source": [
    "df = pl.DataFrame(\n",
    "    {\n",
    "        \"Pokemon\": [\"Pikachu\", \"Charmander\", \"Squirtle\", \"Bulbausaur\"],\n",
    "        \"Tipo 1\": [\"Electric\", \"Fire\", \"Water\", \"Grass\"],\n",
    "        \"Tipo 2\": [None, None, None, \"Poision\"],\n",
    "        \"HP\": [35, 39, 44, 45],\n",
    "    },\n",
    "    schema = {\n",
    "        \"Pokemon\": pl.Utf8,\n",
    "        \"Tipo 1\": pl.Utf8,\n",
    "        \"Tipo 2\": pl.Utf8,\n",
    "        \"HP\": pl.Int32,\n",
    "    }\n",
    ")\n",
    "df"
   ]
  },
  {
   "cell_type": "code",
   "execution_count": 6,
   "metadata": {},
   "outputs": [
    {
     "data": {
      "text/html": [
       "<div><style>\n",
       ".dataframe > thead > tr,\n",
       ".dataframe > tbody > tr {\n",
       "  text-align: right;\n",
       "  white-space: pre-wrap;\n",
       "}\n",
       "</style>\n",
       "<small>shape: (4, 4)</small><table border=\"1\" class=\"dataframe\"><thead><tr><th>Pokemon</th><th>Tipo 1</th><th>Tipo 2</th><th>HP</th></tr><tr><td>str</td><td>str</td><td>str</td><td>i32</td></tr></thead><tbody><tr><td>&quot;Pikachu&quot;</td><td>&quot;Electric&quot;</td><td>null</td><td>0</td></tr><tr><td>&quot;Charmander&quot;</td><td>&quot;Fire&quot;</td><td>null</td><td>4</td></tr><tr><td>&quot;Squirtle&quot;</td><td>&quot;Water&quot;</td><td>null</td><td>9</td></tr><tr><td>&quot;Bulbausaur&quot;</td><td>&quot;Grass&quot;</td><td>&quot;Poision&quot;</td><td>10</td></tr></tbody></table></div>"
      ],
      "text/plain": [
       "shape: (4, 4)\n",
       "┌────────────┬──────────┬─────────┬─────┐\n",
       "│ Pokemon    ┆ Tipo 1   ┆ Tipo 2  ┆ HP  │\n",
       "│ ---        ┆ ---      ┆ ---     ┆ --- │\n",
       "│ str        ┆ str      ┆ str     ┆ i32 │\n",
       "╞════════════╪══════════╪═════════╪═════╡\n",
       "│ Pikachu    ┆ Electric ┆ null    ┆ 0   │\n",
       "│ Charmander ┆ Fire     ┆ null    ┆ 4   │\n",
       "│ Squirtle   ┆ Water    ┆ null    ┆ 9   │\n",
       "│ Bulbausaur ┆ Grass    ┆ Poision ┆ 10  │\n",
       "└────────────┴──────────┴─────────┴─────┘"
      ]
     },
     "execution_count": 6,
     "metadata": {},
     "output_type": "execute_result"
    }
   ],
   "source": [
    "# Simular que le pegaron al Pokemon, le bajaron 35 puntos de vida\n",
    "df = df.with_columns(\n",
    "    pl.col(\"HP\") - 35,\n",
    ")\n",
    "df\n"
   ]
  },
  {
   "cell_type": "code",
   "execution_count": 7,
   "metadata": {},
   "outputs": [
    {
     "data": {
      "text/html": [
       "<div><style>\n",
       ".dataframe > thead > tr,\n",
       ".dataframe > tbody > tr {\n",
       "  text-align: right;\n",
       "  white-space: pre-wrap;\n",
       "}\n",
       "</style>\n",
       "<small>shape: (4, 5)</small><table border=\"1\" class=\"dataframe\"><thead><tr><th>Pokemon</th><th>Tipo 1</th><th>Tipo 2</th><th>HP</th><th>Estado</th></tr><tr><td>str</td><td>str</td><td>str</td><td>i32</td><td>str</td></tr></thead><tbody><tr><td>&quot;Pikachu&quot;</td><td>&quot;Electric&quot;</td><td>null</td><td>0</td><td>&quot;Muerto&quot;</td></tr><tr><td>&quot;Charmander&quot;</td><td>&quot;Fire&quot;</td><td>null</td><td>4</td><td>&quot;Vivo&quot;</td></tr><tr><td>&quot;Squirtle&quot;</td><td>&quot;Water&quot;</td><td>null</td><td>9</td><td>&quot;Vivo&quot;</td></tr><tr><td>&quot;Bulbausaur&quot;</td><td>&quot;Grass&quot;</td><td>&quot;Poision&quot;</td><td>10</td><td>&quot;Vivo&quot;</td></tr></tbody></table></div>"
      ],
      "text/plain": [
       "shape: (4, 5)\n",
       "┌────────────┬──────────┬─────────┬─────┬────────┐\n",
       "│ Pokemon    ┆ Tipo 1   ┆ Tipo 2  ┆ HP  ┆ Estado │\n",
       "│ ---        ┆ ---      ┆ ---     ┆ --- ┆ ---    │\n",
       "│ str        ┆ str      ┆ str     ┆ i32 ┆ str    │\n",
       "╞════════════╪══════════╪═════════╪═════╪════════╡\n",
       "│ Pikachu    ┆ Electric ┆ null    ┆ 0   ┆ Muerto │\n",
       "│ Charmander ┆ Fire     ┆ null    ┆ 4   ┆ Vivo   │\n",
       "│ Squirtle   ┆ Water    ┆ null    ┆ 9   ┆ Vivo   │\n",
       "│ Bulbausaur ┆ Grass    ┆ Poision ┆ 10  ┆ Vivo   │\n",
       "└────────────┴──────────┴─────────┴─────┴────────┘"
      ]
     },
     "execution_count": 7,
     "metadata": {},
     "output_type": "execute_result"
    }
   ],
   "source": [
    "# Agregar si está vivo o muerto\n",
    "df = df.with_columns(\n",
    "    pl.when( \n",
    "        pl.col(\"HP\") > 0\n",
    "    ).then(\n",
    "        pl.lit(\"Vivo\")\n",
    "    ).otherwise(\n",
    "        pl.lit(\"Muerto\")\n",
    "    ).alias(\"Estado\")\n",
    ")\n",
    "df"
   ]
  },
  {
   "cell_type": "code",
   "execution_count": 8,
   "metadata": {},
   "outputs": [
    {
     "data": {
      "text/html": [
       "<div><style>\n",
       ".dataframe > thead > tr,\n",
       ".dataframe > tbody > tr {\n",
       "  text-align: right;\n",
       "  white-space: pre-wrap;\n",
       "}\n",
       "</style>\n",
       "<small>shape: (4, 6)</small><table border=\"1\" class=\"dataframe\"><thead><tr><th>Pokemon</th><th>Tipo 1</th><th>Tipo 2</th><th>HP</th><th>Estado</th><th>Es mascota</th></tr><tr><td>str</td><td>str</td><td>str</td><td>i32</td><td>str</td><td>bool</td></tr></thead><tbody><tr><td>&quot;Pikachu&quot;</td><td>&quot;Electric&quot;</td><td>null</td><td>0</td><td>&quot;Muerto&quot;</td><td>true</td></tr><tr><td>&quot;Charmander&quot;</td><td>&quot;Fire&quot;</td><td>null</td><td>4</td><td>&quot;Vivo&quot;</td><td>false</td></tr><tr><td>&quot;Squirtle&quot;</td><td>&quot;Water&quot;</td><td>null</td><td>9</td><td>&quot;Vivo&quot;</td><td>false</td></tr><tr><td>&quot;Bulbausaur&quot;</td><td>&quot;Grass&quot;</td><td>&quot;Poision&quot;</td><td>10</td><td>&quot;Vivo&quot;</td><td>false</td></tr></tbody></table></div>"
      ],
      "text/plain": [
       "shape: (4, 6)\n",
       "┌────────────┬──────────┬─────────┬─────┬────────┬────────────┐\n",
       "│ Pokemon    ┆ Tipo 1   ┆ Tipo 2  ┆ HP  ┆ Estado ┆ Es mascota │\n",
       "│ ---        ┆ ---      ┆ ---     ┆ --- ┆ ---    ┆ ---        │\n",
       "│ str        ┆ str      ┆ str     ┆ i32 ┆ str    ┆ bool       │\n",
       "╞════════════╪══════════╪═════════╪═════╪════════╪════════════╡\n",
       "│ Pikachu    ┆ Electric ┆ null    ┆ 0   ┆ Muerto ┆ true       │\n",
       "│ Charmander ┆ Fire     ┆ null    ┆ 4   ┆ Vivo   ┆ false      │\n",
       "│ Squirtle   ┆ Water    ┆ null    ┆ 9   ┆ Vivo   ┆ false      │\n",
       "│ Bulbausaur ┆ Grass    ┆ Poision ┆ 10  ┆ Vivo   ┆ false      │\n",
       "└────────────┴──────────┴─────────┴─────┴────────┴────────────┘"
      ]
     },
     "execution_count": 8,
     "metadata": {},
     "output_type": "execute_result"
    }
   ],
   "source": [
    "# Columna para decir si es la mascota de Pokemon o no\n",
    "df = df.with_columns(\n",
    "    pl.when(\n",
    "        pl.col(\"Pokemon\") == \"Pikachu\"\n",
    "    ).then(\n",
    "        pl.lit(True)\n",
    "    ).otherwise(\n",
    "        pl.lit(False)\n",
    "    ).alias(\"Es mascota\")\n",
    ")\n",
    "df"
   ]
  },
  {
   "cell_type": "code",
   "execution_count": 9,
   "metadata": {},
   "outputs": [
    {
     "name": "stdout",
     "output_type": "stream",
     "text": [
      "shape: (4, 1)\n",
      "┌──────────┐\n",
      "│ Tipo 1   │\n",
      "│ ---      │\n",
      "│ str      │\n",
      "╞══════════╡\n",
      "│ Electric │\n",
      "│ Fire     │\n",
      "│ Water    │\n",
      "│ Grass    │\n",
      "└──────────┘\n"
     ]
    }
   ],
   "source": [
    "# Get column names\n",
    "column_names = df.columns\n",
    "\n",
    "# Print second column\n",
    "print(df.select(column_names[1]))"
   ]
  },
  {
   "cell_type": "code",
   "execution_count": 10,
   "metadata": {},
   "outputs": [
    {
     "data": {
      "text/html": [
       "<div><style>\n",
       ".dataframe > thead > tr,\n",
       ".dataframe > tbody > tr {\n",
       "  text-align: right;\n",
       "  white-space: pre-wrap;\n",
       "}\n",
       "</style>\n",
       "<small>shape: (2, 6)</small><table border=\"1\" class=\"dataframe\"><thead><tr><th>Pokemon</th><th>Tipo 1</th><th>Tipo 2</th><th>HP</th><th>Estado</th><th>Es mascota</th></tr><tr><td>str</td><td>str</td><td>str</td><td>i32</td><td>str</td><td>bool</td></tr></thead><tbody><tr><td>&quot;Squirtle&quot;</td><td>&quot;Water&quot;</td><td>null</td><td>9</td><td>&quot;Vivo&quot;</td><td>false</td></tr><tr><td>&quot;Bulbausaur&quot;</td><td>&quot;Grass&quot;</td><td>&quot;Poision&quot;</td><td>10</td><td>&quot;Vivo&quot;</td><td>false</td></tr></tbody></table></div>"
      ],
      "text/plain": [
       "shape: (2, 6)\n",
       "┌────────────┬────────┬─────────┬─────┬────────┬────────────┐\n",
       "│ Pokemon    ┆ Tipo 1 ┆ Tipo 2  ┆ HP  ┆ Estado ┆ Es mascota │\n",
       "│ ---        ┆ ---    ┆ ---     ┆ --- ┆ ---    ┆ ---        │\n",
       "│ str        ┆ str    ┆ str     ┆ i32 ┆ str    ┆ bool       │\n",
       "╞════════════╪════════╪═════════╪═════╪════════╪════════════╡\n",
       "│ Squirtle   ┆ Water  ┆ null    ┆ 9   ┆ Vivo   ┆ false      │\n",
       "│ Bulbausaur ┆ Grass  ┆ Poision ┆ 10  ┆ Vivo   ┆ false      │\n",
       "└────────────┴────────┴─────────┴─────┴────────┴────────────┘"
      ]
     },
     "execution_count": 10,
     "metadata": {},
     "output_type": "execute_result"
    }
   ],
   "source": [
    "# Filtrado\n",
    "## Ver que pokemones tiene mas de 5 HP\n",
    "df.filter(\n",
    "    pl.col(\"HP\") > 5\n",
    ")"
   ]
  },
  {
   "cell_type": "code",
   "execution_count": 11,
   "metadata": {},
   "outputs": [
    {
     "name": "stdout",
     "output_type": "stream",
     "text": [
      "shape: (5, 4)\n",
      "┌─────┬─────┬──────┬──────────┐\n",
      "│ a   ┆ b   ┆ suma ┆ log_b    │\n",
      "│ --- ┆ --- ┆ ---  ┆ ---      │\n",
      "│ i64 ┆ i64 ┆ i64  ┆ f64      │\n",
      "╞═════╪═════╪══════╪══════════╡\n",
      "│ 1   ┆ 5   ┆ 6    ┆ 1.609438 │\n",
      "│ 2   ┆ 4   ┆ 6    ┆ 1.386294 │\n",
      "│ 3   ┆ 3   ┆ 6    ┆ 1.098612 │\n",
      "│ 4   ┆ 2   ┆ 6    ┆ 0.693147 │\n",
      "│ 5   ┆ 1   ┆ 6    ┆ 0.0      │\n",
      "└─────┴─────┴──────┴──────────┘\n",
      "[[3.]]\n"
     ]
    }
   ],
   "source": [
    "df = pl.DataFrame({\n",
    "    \"a\": [1, 2, 3, 4, 5],\n",
    "    \"b\": [5, 4, 3, 2, 1],\n",
    "})\n",
    "\n",
    "# Operaciones aritméticas (suma de columnas)\n",
    "df = df.with_columns(\n",
    "    (pl.col(\"a\") + pl.col(\"b\")).alias(\"suma\")\n",
    ")\n",
    "\n",
    "# Transformación: nueva columna con el logaritmo de \"b\"\n",
    "df = df.with_columns(pl.col(\"b\").log().alias(\"log_b\"))\n",
    "\n",
    "# Operación estadística (media de la columna \"a\")\n",
    "mean_a = df.select(pl.col(\"a\").mean()).to_numpy()\n",
    "\n",
    "print(df)\n",
    "print(mean_a)"
   ]
  },
  {
   "cell_type": "markdown",
   "metadata": {},
   "source": [
    "## LazyFrames"
   ]
  },
  {
   "cell_type": "code",
   "execution_count": null,
   "metadata": {},
   "outputs": [
    {
     "data": {
      "image/svg+xml": [
       "<svg xmlns=\"http://www.w3.org/2000/svg\" xmlns:xlink=\"http://www.w3.org/1999/xlink\" width=\"353pt\" height=\"193pt\" viewBox=\"0.00 0.00 352.50 193.00\">\n",
       "<g id=\"graph0\" class=\"graph\" transform=\"scale(1 1) rotate(0) translate(4 189)\">\n",
       "<title>polars_query</title>\n",
       "<polygon fill=\"white\" stroke=\"none\" points=\"-4,4 -4,-189 348.5,-189 348.5,4 -4,4\"/>\n",
       "<!-- p1 -->\n",
       "<g id=\"node1\" class=\"node\">\n",
       "<title>p1</title>\n",
       "<polygon fill=\"none\" stroke=\"black\" points=\"344.5,-185 0,-185 0,-149 344.5,-149 344.5,-185\"/>\n",
       "<text text-anchor=\"middle\" x=\"172.25\" y=\"-161.95\" font-family=\"Times,serif\" font-size=\"14.00\">WITH COLUMNS [[(col(\"a\")) + (col(\"b\"))].alias(\"suma\")]</text>\n",
       "</g>\n",
       "<!-- p2 -->\n",
       "<g id=\"node2\" class=\"node\">\n",
       "<title>p2</title>\n",
       "<polygon fill=\"none\" stroke=\"black\" points=\"262.38,-113 82.12,-113 82.12,-77 262.38,-77 262.38,-113\"/>\n",
       "<text text-anchor=\"middle\" x=\"172.25\" y=\"-89.95\" font-family=\"Times,serif\" font-size=\"14.00\">FILTER BY [(col(\"a\")) &gt; (2)]</text>\n",
       "</g>\n",
       "<!-- p1&#45;&#45;p2 -->\n",
       "<g id=\"edge1\" class=\"edge\">\n",
       "<title>p1--p2</title>\n",
       "<path fill=\"none\" stroke=\"black\" d=\"M172.25,-148.7C172.25,-137.85 172.25,-123.92 172.25,-113.1\"/>\n",
       "</g>\n",
       "<!-- p3 -->\n",
       "<g id=\"node3\" class=\"node\">\n",
       "<title>p3</title>\n",
       "<polygon fill=\"none\" stroke=\"black\" points=\"201.62,-41 142.88,-41 142.88,0 201.62,0 201.62,-41\"/>\n",
       "<text text-anchor=\"middle\" x=\"172.25\" y=\"-23.7\" font-family=\"Times,serif\" font-size=\"14.00\">TABLE</text>\n",
       "<text text-anchor=\"middle\" x=\"172.25\" y=\"-7.2\" font-family=\"Times,serif\" font-size=\"14.00\">π */2</text>\n",
       "</g>\n",
       "<!-- p2&#45;&#45;p3 -->\n",
       "<g id=\"edge2\" class=\"edge\">\n",
       "<title>p2--p3</title>\n",
       "<path fill=\"none\" stroke=\"black\" d=\"M172.25,-76.82C172.25,-66.18 172.25,-52.49 172.25,-41.38\"/>\n",
       "</g>\n",
       "</g>\n",
       "</svg>"
      ],
      "text/plain": [
       "<IPython.core.display.SVG object>"
      ]
     },
     "metadata": {},
     "output_type": "display_data"
    }
   ],
   "source": [
    "# Crear un DataFrame en modo perezoso\n",
    "df_lazy = pl.DataFrame({\n",
    "   \"a\": [1, 2, 3, 4, 5],\n",
    "   \"b\": [5, 4, 3, 2, 1]\n",
    "}).lazy()\n",
    "\n",
    "# Aplicar transformaciones (sin ejecutar aún)\n",
    "df_transformed = df_lazy.filter(\n",
    "    pl.col(\"a\") > 2\n",
    ").with_columns(\n",
    "    (pl.col(\"a\") + pl.col(\"b\")).alias(\"suma\")\n",
    ")\n",
    "\n",
    "# Al invocar collect(), las transformaciones se ejecutan\n",
    "result = df_transformed\n",
    "\n",
    "# Crear resultados\n",
    "df_final = result.collect()\n",
    "df_final"
   ]
  },
  {
   "cell_type": "code",
   "execution_count": null,
   "metadata": {},
   "outputs": [
    {
     "data": {
      "text/html": [
       "<h4>NAIVE QUERY PLAN</h4><p>run <b>LazyFrame.show_graph()</b> to see the optimized version</p><?xml version=\"1.0\" encoding=\"UTF-8\" standalone=\"no\"?>\n",
       "<!DOCTYPE svg PUBLIC \"-//W3C//DTD SVG 1.1//EN\"\n",
       " \"http://www.w3.org/Graphics/SVG/1.1/DTD/svg11.dtd\">\n",
       "<!-- Generated by graphviz version 12.2.1 (0)\n",
       " -->\n",
       "<!-- Title: polars_query Pages: 1 -->\n",
       "<svg width=\"401pt\" height=\"193pt\"\n",
       " viewBox=\"0.00 0.00 401.25 193.00\" xmlns=\"http://www.w3.org/2000/svg\" xmlns:xlink=\"http://www.w3.org/1999/xlink\">\n",
       "<g id=\"graph0\" class=\"graph\" transform=\"scale(1 1) rotate(0) translate(4 189)\">\n",
       "<title>polars_query</title>\n",
       "<polygon fill=\"white\" stroke=\"none\" points=\"-4,4 -4,-189 397.25,-189 397.25,4 -4,4\"/>\n",
       "<!-- p1 -->\n",
       "<g id=\"node1\" class=\"node\">\n",
       "<title>p1</title>\n",
       "<polygon fill=\"none\" stroke=\"black\" points=\"393.25,-185 0,-185 0,-149 393.25,-149 393.25,-185\"/>\n",
       "<text text-anchor=\"middle\" x=\"196.62\" y=\"-161.95\" font-family=\"Times,serif\" font-size=\"14.00\">WITH COLUMNS [[(col(&quot;x&quot;)) * (col(&quot;y&quot;))].alias(&quot;multiplicacion&quot;)]</text>\n",
       "</g>\n",
       "<!-- p2 -->\n",
       "<g id=\"node2\" class=\"node\">\n",
       "<title>p2</title>\n",
       "<polygon fill=\"none\" stroke=\"black\" points=\"287.12,-113 106.12,-113 106.12,-77 287.12,-77 287.12,-113\"/>\n",
       "<text text-anchor=\"middle\" x=\"196.62\" y=\"-89.95\" font-family=\"Times,serif\" font-size=\"14.00\">FILTER BY [(col(&quot;x&quot;)) &gt; (2)]</text>\n",
       "</g>\n",
       "<!-- p1&#45;&#45;p2 -->\n",
       "<g id=\"edge1\" class=\"edge\">\n",
       "<title>p1&#45;&#45;p2</title>\n",
       "<path fill=\"none\" stroke=\"black\" d=\"M196.62,-148.7C196.62,-137.85 196.62,-123.92 196.62,-113.1\"/>\n",
       "</g>\n",
       "<!-- p3 -->\n",
       "<g id=\"node3\" class=\"node\">\n",
       "<title>p3</title>\n",
       "<polygon fill=\"none\" stroke=\"black\" points=\"226,-41 167.25,-41 167.25,0 226,0 226,-41\"/>\n",
       "<text text-anchor=\"middle\" x=\"196.62\" y=\"-23.7\" font-family=\"Times,serif\" font-size=\"14.00\">TABLE</text>\n",
       "<text text-anchor=\"middle\" x=\"196.62\" y=\"-7.2\" font-family=\"Times,serif\" font-size=\"14.00\">π */2</text>\n",
       "</g>\n",
       "<!-- p2&#45;&#45;p3 -->\n",
       "<g id=\"edge2\" class=\"edge\">\n",
       "<title>p2&#45;&#45;p3</title>\n",
       "<path fill=\"none\" stroke=\"black\" d=\"M196.62,-76.82C196.62,-66.18 196.62,-52.49 196.62,-41.38\"/>\n",
       "</g>\n",
       "</g>\n",
       "</svg>\n"
      ],
      "text/plain": [
       "<LazyFrame at 0x7C55501496D0>"
      ]
     },
     "execution_count": 25,
     "metadata": {},
     "output_type": "execute_result"
    }
   ],
   "source": [
    "# Crear un DataFrame en modo perezoso\n",
    "df_lazy = pl.DataFrame({\n",
    "   \"x\": [1, 2, 3, 4, 5],\n",
    "   \"y\": [6, 7, 8, 9, 10]\n",
    "}).lazy()\n",
    "\n",
    "# Aplicar operaciones: filtrar y agregar columnas\n",
    "df_result = df_lazy.filter(\n",
    "    pl.col(\"x\") > 2\n",
    ").with_columns(\n",
    "    (pl.col(\"x\") * pl.col(\"y\")).alias(\"multiplicacion\")\n",
    ")  # Multiplica las columnas 'x' y 'y'\n",
    "\n",
    "# Ejecutar operaciones solo al llamar a collect()\n",
    "df_result = df_result.collect()\n",
    "df_result"
   ]
  },
  {
   "cell_type": "code",
   "execution_count": 29,
   "metadata": {},
   "outputs": [
    {
     "name": "stdout",
     "output_type": "stream",
     "text": [
      "shape: (3, 3)\n",
      "┌────────┬───────────────────┬───────┐\n",
      "│ nombre ┆ promedio_ingresos ┆ IVA   │\n",
      "│ ---    ┆ ---               ┆ ---   │\n",
      "│ str    ┆ f64               ┆ f64   │\n",
      "╞════════╪═══════════════════╪═══════╡\n",
      "│ Luis   ┆ 4333.333333       ┆ 480.0 │\n",
      "│ Carlos ┆ 4333.333333       ┆ 640.0 │\n",
      "│ José   ┆ 4333.333333       ┆ 960.0 │\n",
      "└────────┴───────────────────┴───────┘\n"
     ]
    }
   ],
   "source": [
    "# Crear un DataFrame con más columnas\n",
    "df_lazy = pl.DataFrame({\n",
    "   \"nombre\": [\"Ana\", \"Luis\", \"Carlos\", \"Marta\", \"José\"],\n",
    "   \"edad\": [23, 34, 45, 28, 60],\n",
    "   \"ingresos_brutos\": [2000, 3000, 4000, 5000, 6000]\n",
    "}).lazy()\n",
    "\n",
    "df_result = df_lazy.filter(\n",
    "    pl.col(\"edad\") > 30\n",
    ").select(\n",
    "    [\n",
    "        pl.col(\"nombre\"), \n",
    "        pl.col(\"ingresos_brutos\").mean().alias(\"promedio_ingresos\"),\n",
    "        (pl.col(\"ingresos_brutos\") * 0.16).alias(\"IVA\")\n",
    "    ]\n",
    ")\n",
    "df_result = df_result.collect()\n",
    "print(df_result)"
   ]
  }
 ],
 "metadata": {
  "kernelspec": {
   "display_name": "Python 3",
   "language": "python",
   "name": "python3"
  },
  "language_info": {
   "codemirror_mode": {
    "name": "ipython",
    "version": 3
   },
   "file_extension": ".py",
   "mimetype": "text/x-python",
   "name": "python",
   "nbconvert_exporter": "python",
   "pygments_lexer": "ipython3",
   "version": "3.13.2"
  }
 },
 "nbformat": 4,
 "nbformat_minor": 2
}
