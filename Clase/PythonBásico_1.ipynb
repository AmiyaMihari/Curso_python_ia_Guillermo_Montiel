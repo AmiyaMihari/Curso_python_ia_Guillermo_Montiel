{
 "cells": [
  {
   "cell_type": "markdown",
   "metadata": {
    "id": "jhU2mwbsZhxz"
   },
   "source": [
    "# **Introducción al curso: Python básico**\n",
    "\n",
    "\n"
   ]
  },
  {
   "cell_type": "markdown",
   "metadata": {
    "id": "tjgKIQLbdj7K"
   },
   "source": [
    "### **Notebook 1: Aspectos básicos de Python**\n",
    "1. Variables.\n",
    "2. Bucles.\n",
    "3. Listas.\n",
    "5. Condiciones.\n",
    "\n"
   ]
  },
  {
   "cell_type": "markdown",
   "metadata": {
    "id": "rNo0WyYwgDX1"
   },
   "source": [
    "# **1) VARIABLES**"
   ]
  },
  {
   "cell_type": "markdown",
   "metadata": {
    "id": "7agyXAx6gVG6"
   },
   "source": [
    "##**1. Introducción a las variables**"
   ]
  },
  {
   "cell_type": "markdown",
   "metadata": {
    "id": "gsSlW-tdf5qr"
   },
   "source": [
    "En Python, las variables se crean automáticamente cuando se les asigna un valor. **No es necesario declarar el tipo de variable**, ya que Python es un lenguaje de **programación dinámico**."
   ]
  },
  {
   "cell_type": "code",
   "execution_count": 2,
   "metadata": {
    "colab": {
     "base_uri": "https://localhost:8080/"
    },
    "id": "SuqtBiy7fmEq",
    "outputId": "64738a72-2916-4fbc-da1d-db4ce60de7ed"
   },
   "outputs": [
    {
     "name": "stdout",
     "output_type": "stream",
     "text": [
      "Deivi\n",
      "18\n"
     ]
    }
   ],
   "source": [
    "# Creando una variable y asignándole un valor\n",
    "nombre = \"Deivi\"\n",
    "edad = 18\n",
    "\n",
    "# Imprimiendo el contenido de las variables\n",
    "print(nombre)\n",
    "print(edad)"
   ]
  },
  {
   "cell_type": "markdown",
   "metadata": {
    "id": "Koi4mleqgcEt"
   },
   "source": [
    "##**2. Reglas para nombrar variables**"
   ]
  },
  {
   "cell_type": "markdown",
   "metadata": {
    "id": "2_pi0JDaggN2"
   },
   "source": [
    "Al nombrar variables en Python, debemos seguir ciertas reglas para asegurarnos de que sean válidas.\n",
    "\n",
    "    \n",
    "*   El nombre de la variable debe comenzar con una letra (a-z, A-Z) o un guión bajo (_).\n",
    "*   Puede contener letras, números y guiones bajos.\n",
    "*   Python distingue entre mayúsculas y minúsculas, por lo que nombre y Nombre son dos variables diferentes."
   ]
  },
  {
   "cell_type": "code",
   "execution_count": 3,
   "metadata": {
    "id": "_Xgdn8apg2ql"
   },
   "outputs": [],
   "source": [
    "# Ejemplos de nombres de variables válidos e inválidos\n",
    "variable_valida = 42\n",
    "variable_válida = \"Hola\"\n",
    "_variable_valida = True"
   ]
  },
  {
   "cell_type": "code",
   "execution_count": 4,
   "metadata": {
    "colab": {
     "base_uri": "https://localhost:8080/"
    },
    "id": "2eOYrK0LhEQz",
    "outputId": "64cf1723-902b-42d5-fc78-e0f36068b89e"
   },
   "outputs": [
    {
     "name": "stdout",
     "output_type": "stream",
     "text": [
      "42 Hola True\n"
     ]
    }
   ],
   "source": [
    "print(variable_valida, variable_válida, _variable_valida)"
   ]
  },
  {
   "cell_type": "code",
   "execution_count": null,
   "metadata": {
    "colab": {
     "base_uri": "https://localhost:8080/",
     "height": 143
    },
    "id": "6AXzX97HhCQ0",
    "outputId": "96a62007-5c8f-4b50-8157-3e6a76025d99"
   },
   "outputs": [
    {
     "ename": "SyntaxError",
     "evalue": "invalid decimal literal (1210751955.py, line 1)",
     "output_type": "error",
     "traceback": [
      "\u001b[0;36m  Cell \u001b[0;32mIn[5], line 1\u001b[0;36m\u001b[0m\n\u001b[0;31m    1variable_inválida = \"Esto no funcionará\"\u001b[0m\n\u001b[0m    ^\u001b[0m\n\u001b[0;31mSyntaxError\u001b[0m\u001b[0;31m:\u001b[0m invalid decimal literal\n"
     ]
    }
   ],
   "source": [
    "1variable_inválida = \"Esto no funcionará\""
   ]
  },
  {
   "cell_type": "markdown",
   "metadata": {
    "id": "7RdgsUChhSoR"
   },
   "source": [
    "##**3. Tipos de datos en Python**"
   ]
  },
  {
   "cell_type": "markdown",
   "metadata": {
    "id": "r4y8muiLhSoS"
   },
   "source": [
    "###**3.1. Números**"
   ]
  },
  {
   "cell_type": "code",
   "execution_count": 4,
   "metadata": {
    "id": "xIXGvKn2ku5-"
   },
   "outputs": [],
   "source": [
    "entero = 42\n",
    "flotante = 3.14"
   ]
  },
  {
   "cell_type": "markdown",
   "metadata": {
    "id": "g8RRTHRfk3vG"
   },
   "source": [
    "###**3.2. Cadenas de caracteres**"
   ]
  },
  {
   "cell_type": "code",
   "execution_count": 5,
   "metadata": {
    "id": "L1LvxAkQk3vI"
   },
   "outputs": [],
   "source": [
    "nombre = \"Cuac\"\n",
    "apellido = 'Quackinson'"
   ]
  },
  {
   "cell_type": "markdown",
   "metadata": {
    "id": "SH4KXQ4_lNzV"
   },
   "source": [
    "###**3.3. Booleanos**"
   ]
  },
  {
   "cell_type": "code",
   "execution_count": 6,
   "metadata": {
    "id": "4zxkBra_k_V_"
   },
   "outputs": [],
   "source": [
    "verdadero = True\n",
    "falso = False"
   ]
  },
  {
   "cell_type": "markdown",
   "metadata": {
    "id": "qJ253RR8lQTb"
   },
   "source": [
    "###**3.1. Listas**"
   ]
  },
  {
   "cell_type": "markdown",
   "metadata": {
    "id": "P83vjIwNlaCa"
   },
   "source": [
    "Las listas son colecciones ordenadas de elementos que pueden contener diferentes tipos de datos."
   ]
  },
  {
   "cell_type": "code",
   "execution_count": 7,
   "metadata": {
    "id": "1GRir8IqlE7e"
   },
   "outputs": [],
   "source": [
    "numeros = [1, 2, 3, 4, 5]\n",
    "nombres = [\"Pancho\", \"María\", \"Pedro\"]"
   ]
  },
  {
   "cell_type": "markdown",
   "metadata": {
    "id": "oGGP6FlQlVwa"
   },
   "source": [
    "###**3.5. Tuplas**"
   ]
  },
  {
   "cell_type": "markdown",
   "metadata": {
    "id": "6H9et_FGlc5u"
   },
   "source": [
    "Las tuplas son similares a las listas, pero son inmutables, lo que significa que no se pueden modificar una vez creadas."
   ]
  },
  {
   "cell_type": "code",
   "execution_count": 8,
   "metadata": {
    "id": "NeOS8REdlGnv"
   },
   "outputs": [],
   "source": [
    "coordenadas = (10, 20)"
   ]
  },
  {
   "cell_type": "markdown",
   "metadata": {
    "id": "ccgIvbE3lpJK"
   },
   "source": [
    "###**3.6. Diccionarios**"
   ]
  },
  {
   "cell_type": "markdown",
   "metadata": {
    "id": "xgutlOdFlvgB"
   },
   "source": [
    "Los diccionarios son colecciones de pares clave-valor, que nos permiten acceder a los valores a través de una clave."
   ]
  },
  {
   "cell_type": "code",
   "execution_count": 9,
   "metadata": {
    "id": "96f9WvPplhWs"
   },
   "outputs": [],
   "source": [
    "persona = {\"nombre\": \"Deivi\", \"edad\": 18, \"Canción favorita\": \"Stairway to heaven\"}"
   ]
  },
  {
   "cell_type": "code",
   "execution_count": 10,
   "metadata": {
    "colab": {
     "base_uri": "https://localhost:8080/"
    },
    "id": "AHU1yj2jlw8j",
    "outputId": "ef081849-44e1-482a-b6a0-3ebfb528824f"
   },
   "outputs": [
    {
     "name": "stdout",
     "output_type": "stream",
     "text": [
      "Deivi\n"
     ]
    }
   ],
   "source": [
    "print(persona[\"nombre\"])"
   ]
  },
  {
   "cell_type": "code",
   "execution_count": 11,
   "metadata": {
    "colab": {
     "base_uri": "https://localhost:8080/"
    },
    "id": "NNXzy0K9l2FD",
    "outputId": "531dafaa-07cd-4f46-a055-bbd1fb7fe7a9"
   },
   "outputs": [
    {
     "name": "stdout",
     "output_type": "stream",
     "text": [
      "18\n"
     ]
    }
   ],
   "source": [
    "print(persona[\"edad\"])"
   ]
  },
  {
   "cell_type": "code",
   "execution_count": 12,
   "metadata": {
    "colab": {
     "base_uri": "https://localhost:8080/"
    },
    "id": "KSub_Kvro1Cq",
    "outputId": "027ca2a8-8297-436b-806f-3c2cb6d4dfa8"
   },
   "outputs": [
    {
     "name": "stdout",
     "output_type": "stream",
     "text": [
      "dict_items([('nombre', 'Deivi'), ('edad', 18), ('Canción favorita', 'Stairway to heaven')])\n"
     ]
    }
   ],
   "source": [
    "print(persona.items())"
   ]
  },
  {
   "cell_type": "markdown",
   "metadata": {
    "id": "P60DMi-nmBrS"
   },
   "source": [
    "###**3.7. Conversión de tipos de datos**"
   ]
  },
  {
   "cell_type": "markdown",
   "metadata": {
    "id": "WSeno8eLmFnp"
   },
   "source": [
    "En ocasiones, puede ser necesario convertir un tipo de dato en otro. Para ello, Python proporciona funciones para hacer estas conversiones."
   ]
  },
  {
   "cell_type": "code",
   "execution_count": 13,
   "metadata": {
    "id": "8v_Fxg58li2Z"
   },
   "outputs": [],
   "source": [
    "# Conversión de número a cadena de caracteres\n",
    "numero = 42\n",
    "cadena_numero = str(numero)\n",
    "\n",
    "# Conversión de cadena de caracteres a número entero\n",
    "cadena_entero = \"123\"\n",
    "entero = int(cadena_entero)\n",
    "\n",
    "# Conversión de número flotante a número entero\n",
    "flotante = 3.14\n",
    "entero = int(flotante)"
   ]
  },
  {
   "cell_type": "code",
   "execution_count": 14,
   "metadata": {
    "colab": {
     "base_uri": "https://localhost:8080/"
    },
    "id": "3hIGY4f5mMUM",
    "outputId": "05a659c7-ea62-4adf-d8de-085b1a4e4cb3"
   },
   "outputs": [
    {
     "name": "stdout",
     "output_type": "stream",
     "text": [
      "<class 'int'> <class 'str'>\n"
     ]
    }
   ],
   "source": [
    "# int y str\n",
    "print(type(numero),type(cadena_numero))"
   ]
  },
  {
   "cell_type": "code",
   "execution_count": 15,
   "metadata": {
    "colab": {
     "base_uri": "https://localhost:8080/"
    },
    "id": "k31iwhTHmXxC",
    "outputId": "7238b963-43da-40b6-e9d0-da00871113aa"
   },
   "outputs": [
    {
     "name": "stdout",
     "output_type": "stream",
     "text": [
      "<class 'str'> <class 'int'>\n"
     ]
    }
   ],
   "source": [
    "# str e int\n",
    "print(type(cadena_entero),type(entero))"
   ]
  },
  {
   "cell_type": "code",
   "execution_count": 16,
   "metadata": {
    "colab": {
     "base_uri": "https://localhost:8080/"
    },
    "id": "-9JEBWVxmfv9",
    "outputId": "e6ff62d4-a196-47c0-9650-db008d42e667"
   },
   "outputs": [
    {
     "name": "stdout",
     "output_type": "stream",
     "text": [
      "<class 'float'> <class 'int'>\n"
     ]
    }
   ],
   "source": [
    "# float e int\n",
    "print(type(flotante),type(entero))"
   ]
  },
  {
   "cell_type": "markdown",
   "metadata": {
    "id": "GxU0sv-cm4-r"
   },
   "source": [
    "# **2) BUCLES**"
   ]
  },
  {
   "cell_type": "markdown",
   "metadata": {
    "id": "vKIYIFu9m4-y"
   },
   "source": [
    "##**2.1. Bucle \"for\"**"
   ]
  },
  {
   "cell_type": "code",
   "execution_count": null,
   "metadata": {
    "colab": {
     "base_uri": "https://localhost:8080/"
    },
    "id": "suWJYdrPndn7",
    "outputId": "84bfe817-3314-457a-f89e-80259f7867c8"
   },
   "outputs": [
    {
     "name": "stdout",
     "output_type": "stream",
     "text": [
      "1\n",
      "2\n",
      "3\n",
      "4\n",
      "5\n"
     ]
    }
   ],
   "source": [
    "# Ejemplo de bucle for para iterar sobre una lista\n",
    "numeros = [1, 2, 3, 4, 5]\n",
    "for numero in numeros:\n",
    "    print(numero)"
   ]
  },
  {
   "cell_type": "code",
   "execution_count": 18,
   "metadata": {
    "colab": {
     "base_uri": "https://localhost:8080/"
    },
    "id": "8bhP-FHDnhya",
    "outputId": "bc5794f9-dfb9-4bc6-a594-ec350fd40c5e"
   },
   "outputs": [
    {
     "name": "stdout",
     "output_type": "stream",
     "text": [
      "H\n",
      "o\n",
      "l\n",
      "a\n",
      ",\n",
      " \n",
      "m\n",
      "u\n",
      "n\n",
      "d\n",
      "o\n",
      "!\n"
     ]
    }
   ],
   "source": [
    "# Ejemplo de bucle for para iterar sobre una cadena de caracteres\n",
    "mensaje = \"Hola, mundo!\"\n",
    "for caracter in mensaje:\n",
    "    print(caracter)"
   ]
  },
  {
   "cell_type": "markdown",
   "metadata": {
    "id": "48zEM9l_nsLL"
   },
   "source": [
    "#### **EJERCICIO: Ajusta las cadenas para mostrar tus datos :D**"
   ]
  },
  {
   "cell_type": "code",
   "execution_count": 19,
   "metadata": {
    "colab": {
     "base_uri": "https://localhost:8080/"
    },
    "id": "K0lqMbtHnlMj",
    "outputId": "ecb5a54f-290f-4ff8-9331-4d8770c01994"
   },
   "outputs": [
    {
     "name": "stdout",
     "output_type": "stream",
     "text": [
      "--- FICHA TÉCNICA DEL HUMANO ---\n",
      "NOMBRE: Jairo\n",
      "EDAD: 26\n",
      "CANCIÓN FAVORITA: El gato volador\n",
      "MASCOTA: Perro salchicha gordo bachicha\n",
      "HABILIDAD ESPECIAL: Autismo\n",
      "FRASE MOTIVACIONAL: Las cosas divertidas son divertidas - Keionas\n",
      "\n",
      "Nota: Este diccionario es 87% real *guiño* *guiño*\n"
     ]
    }
   ],
   "source": [
    "# Ejemplo de bucle for para iterar sobre un diccionario (versión con crisis existencial)\n",
    "persona = {\n",
    "    \"nombre\": \"Jairo\",  # Nombre artístico\n",
    "    \"edad\": 26,  # 100% real no fake\n",
    "    \"Canción favorita\": \"El gato volador\",\n",
    "    \"Mascota\": \"Perro salchicha gordo bachicha\",  # RIP Tammy\n",
    "    \"Habilidad especial\": \"Autismo\",  # La dvd tamos prros\n",
    "    \"Frase motivacional\": \"Las cosas divertidas son divertidas - Keionas\",\n",
    "}\n",
    "\n",
    "print(\"--- FICHA TÉCNICA DEL HUMANO ---\")\n",
    "for clave, valor in persona.items():\n",
    "    print(f\"{clave.upper()}: {valor}\")  # En mayúsculas para que suene más oficial\n",
    "\n",
    "print(\"\\nNota: Este diccionario es 87% real *guiño* *guiño*\")"
   ]
  },
  {
   "cell_type": "markdown",
   "metadata": {
    "id": "64IuamdHpHud"
   },
   "source": [
    "##**2.2 Bucle \"while\"**"
   ]
  },
  {
   "cell_type": "markdown",
   "metadata": {
    "id": "MYKoIcv0pUpY"
   },
   "source": [
    "#### **EJERCICIO: Ajusta el bucle while y el contadorpara imprimir los números del 5 al 20**"
   ]
  },
  {
   "cell_type": "code",
   "execution_count": 20,
   "metadata": {
    "colab": {
     "base_uri": "https://localhost:8080/"
    },
    "id": "RcYKcwcapPhi",
    "outputId": "20406d1b-5c5c-4eda-fc24-f11c6090ecd2"
   },
   "outputs": [
    {
     "name": "stdout",
     "output_type": "stream",
     "text": [
      "5\n",
      "6\n",
      "7\n",
      "8\n",
      "9\n",
      "10\n",
      "11\n",
      "12\n",
      "13\n",
      "14\n",
      "15\n",
      "16\n",
      "17\n",
      "18\n",
      "19\n",
      "20\n"
     ]
    }
   ],
   "source": [
    "# Ejemplo de bucle while para imprimir los números del 1 al 5\n",
    "contador = 5\n",
    "while contador <= 20:\n",
    "    print(contador)\n",
    "    contador += 1"
   ]
  },
  {
   "cell_type": "markdown",
   "metadata": {
    "id": "hHfdanMqpivy"
   },
   "source": [
    "#### **EXTRA: Ajusta el bucle while y el contador para imprimir los números del 20 al 5**"
   ]
  },
  {
   "cell_type": "code",
   "execution_count": 21,
   "metadata": {
    "id": "N-3sEK8xptLI"
   },
   "outputs": [
    {
     "name": "stdout",
     "output_type": "stream",
     "text": [
      "20\n",
      "19\n",
      "18\n",
      "17\n",
      "16\n",
      "15\n",
      "14\n",
      "13\n",
      "12\n",
      "11\n",
      "10\n",
      "9\n",
      "8\n",
      "7\n",
      "6\n",
      "5\n"
     ]
    }
   ],
   "source": [
    "# Escribe aquí el código\n",
    "# Ejemplo de bucle while para imprimir los números del 1 al 5\n",
    "contador = 20\n",
    "while contador >= 5:\n",
    "    print(contador)\n",
    "    contador -= 1"
   ]
  },
  {
   "cell_type": "code",
   "execution_count": 22,
   "metadata": {
    "colab": {
     "base_uri": "https://localhost:8080/"
    },
    "id": "7y4UzDqGc8cX",
    "outputId": "5bbbc631-4e3f-4f2f-ecc8-47f004f770c8"
   },
   "outputs": [
    {
     "name": "stdout",
     "output_type": "stream",
     "text": [
      "¡Correcto! Adivinaste en 1 intentos.\n"
     ]
    }
   ],
   "source": [
    "# Ejemplo de bucle while con condición de salida\n",
    "secreto = 7\n",
    "intentos = 0\n",
    "\n",
    "while True:\n",
    "    guess = int(input(\"Adivina el número secreto: \"))\n",
    "    intentos += 1\n",
    "\n",
    "    if guess == secreto:\n",
    "        print(f\"¡Correcto! Adivinaste en {intentos} intentos.\")\n",
    "        break # \"Rompemos\" el bucle infinito\n",
    "    else:\n",
    "        print(\"Número incorrecto. Intenta de nuevo.\")\n"
   ]
  },
  {
   "cell_type": "markdown",
   "metadata": {
    "id": "d2nBxcq3mgXp"
   },
   "source": [
    "##**2.3. Break y continue\"**"
   ]
  },
  {
   "cell_type": "markdown",
   "metadata": {
    "id": "qwI-JCw_myTf"
   },
   "source": [
    "**break:** Detiene por completo el bucle y sale de él.\n",
    "\n",
    "**continue:** Salta a la siguiente iteración del bucle sin ejecutar el código restante para esa iteración."
   ]
  },
  {
   "cell_type": "code",
   "execution_count": 23,
   "metadata": {
    "colab": {
     "base_uri": "https://localhost:8080/"
    },
    "id": "z30dO3Jvm_MW",
    "outputId": "4114da17-c072-4376-dd7b-7955c992e4cb"
   },
   "outputs": [
    {
     "name": "stdout",
     "output_type": "stream",
     "text": [
      "1\n",
      "2\n"
     ]
    }
   ],
   "source": [
    "# Ejemplo de bucle for con sentencia break\n",
    "numeros = [1, 2, 3, 4, 5]\n",
    "for numero in numeros:\n",
    "    if numero == 3:\n",
    "        break\n",
    "    print(numero)"
   ]
  },
  {
   "cell_type": "code",
   "execution_count": 24,
   "metadata": {
    "colab": {
     "base_uri": "https://localhost:8080/"
    },
    "id": "PZFSZcHRnHpu",
    "outputId": "93690003-0193-4c1d-e966-7a32cdcbdcbd"
   },
   "outputs": [
    {
     "name": "stdout",
     "output_type": "stream",
     "text": [
      "1\n",
      "2\n",
      "4\n",
      "5\n"
     ]
    }
   ],
   "source": [
    "# Ejemplo de bucle while con sentencia continue\n",
    "contador = 0\n",
    "while contador < 5:\n",
    "    contador += 1\n",
    "    if contador == 3:\n",
    "        continue\n",
    "    print(contador)"
   ]
  },
  {
   "cell_type": "markdown",
   "metadata": {
    "id": "j5hrOkLQd9HE"
   },
   "source": [
    "# **3) LISTAS**"
   ]
  },
  {
   "cell_type": "markdown",
   "metadata": {
    "id": "58enLRqad9HI"
   },
   "source": [
    "##**3.1. Creación de listas**"
   ]
  },
  {
   "cell_type": "code",
   "execution_count": 25,
   "metadata": {
    "colab": {
     "background_save": true
    },
    "id": "5CPsDUPwd9HJ"
   },
   "outputs": [],
   "source": [
    "# Crear una lista de números\n",
    "numeros = [1, 2, 3, 4, 5]\n",
    "\n",
    "# Crear una lista de cadenas de caracteres\n",
    "nombres = [\"Michael\", \"Dwight\", \"Jim\"]\n",
    "\n",
    "# Crear una lista mixta\n",
    "mixta = [1, \"Hola\", 3.14, True]\n"
   ]
  },
  {
   "cell_type": "markdown",
   "metadata": {
    "id": "AKAEefkUq5cb"
   },
   "source": [
    "##**3.2. Uso de bucles para construir listas**"
   ]
  },
  {
   "cell_type": "code",
   "execution_count": 26,
   "metadata": {
    "colab": {
     "base_uri": "https://localhost:8080/"
    },
    "id": "IuFf3KMcrKeI",
    "outputId": "a44333f2-ff3e-47fb-d32b-211b6d20600e"
   },
   "outputs": [
    {
     "name": "stdout",
     "output_type": "stream",
     "text": [
      "[1, 4, 9, 16, 25]\n"
     ]
    }
   ],
   "source": [
    "# Ejemplo de comprensión de lista para generar una lista de cuadrados de los números del 1 al 5\n",
    "cuadrados = [numero ** 2 for numero in range(1, 6)]\n",
    "print(cuadrados)"
   ]
  },
  {
   "cell_type": "code",
   "execution_count": 27,
   "metadata": {
    "colab": {
     "base_uri": "https://localhost:8080/"
    },
    "id": "6YkzWhfmsEJM",
    "outputId": "b3b76eef-e1e6-46c0-cefc-2076e43eaf56"
   },
   "outputs": [
    {
     "name": "stdout",
     "output_type": "stream",
     "text": [
      "[6, 7, 8, 9, 10, 11, 12, 13]\n"
     ]
    }
   ],
   "source": [
    "sumas = [numero + 5 for numero in range(1, 9)]\n",
    "print(sumas)"
   ]
  },
  {
   "cell_type": "markdown",
   "metadata": {
    "id": "Oh0QFsZxrOoi"
   },
   "source": [
    "#### **EJERCICIO: Crea una lista de la tabla del 7 (del 1 al 20)**"
   ]
  },
  {
   "cell_type": "code",
   "execution_count": 28,
   "metadata": {
    "id": "TAyb7p7lsfwL"
   },
   "outputs": [
    {
     "name": "stdout",
     "output_type": "stream",
     "text": [
      "[7, 14, 21, 28, 35, 42, 49, 56, 63, 70]\n"
     ]
    }
   ],
   "source": [
    "# Escribe aquí tu código\n",
    "tabla7 = [7 * numero for numero in range(1, 11)]\n",
    "print(tabla7)"
   ]
  },
  {
   "cell_type": "markdown",
   "metadata": {
    "id": "sJmUoaH9d9HN"
   },
   "source": [
    "##**3.3. Acceso a elementos de la lista**"
   ]
  },
  {
   "cell_type": "code",
   "execution_count": 29,
   "metadata": {
    "colab": {
     "base_uri": "https://localhost:8080/"
    },
    "id": "gj1YGStXe-Z-",
    "outputId": "43565468-561e-4651-e43f-10d3e7740976"
   },
   "outputs": [
    {
     "name": "stdout",
     "output_type": "stream",
     "text": [
      "Pablo\n",
      "Tyrone\n"
     ]
    }
   ],
   "source": [
    "# Acceder a elementos individuales de una lista\n",
    "backyardigans = [\"Pablo\", \"Tyrone\", \"Uniqua\", \"Tasha\", \"Austin\"]\n",
    "\n",
    "primer_backyardigan= backyardigans[0]\n",
    "\n",
    "segundo_backyardigan = backyardigans[1]\n",
    "\n",
    "print(primer_backyardigan)  # Salida: \"Pablo\"\n",
    "\n",
    "print(segundo_backyardigan)  # Salida: \"Tyron\""
   ]
  },
  {
   "cell_type": "markdown",
   "metadata": {
    "id": "T-LbMFLshvhj"
   },
   "source": [
    "#### **EJERCICIO: Tu primer матрёшка con listas**"
   ]
  },
  {
   "cell_type": "code",
   "execution_count": 30,
   "metadata": {
    "colab": {
     "base_uri": "https://localhost:8080/"
    },
    "id": "BEfxVeJih-0N",
    "outputId": "b25e1eeb-0bfa-464b-b790-d4b2949eff2a"
   },
   "outputs": [
    {
     "name": "stdout",
     "output_type": "stream",
     "text": [
      "Hola en ruso es привет y adiós en francés es Adieu\n"
     ]
    }
   ],
   "source": [
    "espanol = [\"Hola\", \"Adios\"]\n",
    "ingles = [\"Hello\", \"Bye\"]\n",
    "frances = [\"Bonjour\", \"Adieu\"]\n",
    "ruso = [\"привет\", \"пока\"]\n",
    "idiomas = [espanol, ingles, frances, ruso]\n",
    "\n",
    "# Accedemos al elemento 3 de la lista idiomas y al elemento 0 de la lista ruso\n",
    "holaEnRuso = idiomas[3][0]\n",
    "\n",
    "# ACCEDE A LA LISTA \"IDIOMAS\" PARA ESCRIBIR ADIÓS EN FRANCÉS\n",
    "adiosEnFrances = idiomas[2][1]\n",
    "\n",
    "# ESTE ES UN F STRING, PUEDES UNIR VARIABLES Y CADENAS\n",
    "print(f'Hola en ruso es { holaEnRuso } y adiós en francés es { adiosEnFrances }')"
   ]
  },
  {
   "cell_type": "markdown",
   "metadata": {
    "id": "8NHX-ApRfhT0"
   },
   "source": [
    "##**3.4. Modificación de elementos de la lista**"
   ]
  },
  {
   "cell_type": "code",
   "execution_count": 31,
   "metadata": {
    "colab": {
     "base_uri": "https://localhost:8080/"
    },
    "id": "DaNR2Qejf9hf",
    "outputId": "bb9d90d5-c0c1-49ff-c9a4-a55df42882a4"
   },
   "outputs": [
    {
     "name": "stdout",
     "output_type": "stream",
     "text": [
      "['Pablo', 'Tyrone', 'Uniqua', 'Tasha', 'Jair']\n"
     ]
    }
   ],
   "source": [
    "# Modificar elementos de una lista\n",
    "backyardigans = [\"Pablo\", \"Tyrone\", \"Uniqua\", \"Tasha\", \"Austin\"]\n",
    "\n",
    "# Escribe tu nombre\n",
    "backyardigans[4] = \"Jair\"\n",
    "\n",
    "print(backyardigans)  # Salida:  [\"Pablo\", \"Tyrone\", \"Uniqua\", \"Tasha\", \"tu nombre\"]"
   ]
  },
  {
   "cell_type": "markdown",
   "metadata": {
    "id": "npec-a61fWsj"
   },
   "source": [
    "##**3.5. Operaciones con listas**"
   ]
  },
  {
   "cell_type": "markdown",
   "metadata": {
    "id": "ywlfT1jIfuin"
   },
   "source": [
    "###**3.5.1 Agregar elementos**"
   ]
  },
  {
   "cell_type": "code",
   "execution_count": 32,
   "metadata": {
    "colab": {
     "base_uri": "https://localhost:8080/"
    },
    "id": "SaNqIJnjBheG",
    "outputId": "042e0bb3-90a4-4704-d7d3-77b7b0bc5b43"
   },
   "outputs": [
    {
     "name": "stdout",
     "output_type": "stream",
     "text": [
      "['Shrek', 'Buzz Lightyear']\n",
      "['Shrek', 'Buzz Lightyear', 'Spider-Man']\n"
     ]
    }
   ],
   "source": [
    "# Agregar elementos a una lista\n",
    "personajes = [\"Shrek\", \"Buzz Lightyear\"]\n",
    "\n",
    "print(personajes)  # Salida: [\"Shrek\", \"Buzz Lightyear\"]\n",
    "\n",
    "personajes.append(\"Spider-Man\")\n",
    "\n",
    "print(personajes)  # Salida: [\"Shrek\", \"Buzz Lightyear\", \"Spider-Man\"]"
   ]
  },
  {
   "cell_type": "markdown",
   "metadata": {
    "id": "GjciNiL5lTT3"
   },
   "source": [
    "###**3.5.2 Concatenar listas**"
   ]
  },
  {
   "cell_type": "code",
   "execution_count": 33,
   "metadata": {
    "colab": {
     "base_uri": "https://localhost:8080/"
    },
    "id": "S6BrCYw7s8mG",
    "outputId": "724b8f31-6fcc-4a7e-fcbd-02736190120e"
   },
   "outputs": [
    {
     "name": "stdout",
     "output_type": "stream",
     "text": [
      "['Batman', 'Peace Maker', 'Flash', 'Joker', 'Iron Man', 'Spider-Man', 'Deadpool', 'The Punisher']\n"
     ]
    }
   ],
   "source": [
    "# Concatenar listas\n",
    "\n",
    "dc = [\"Batman\", \"Peace Maker\", \"Flash\", \"Joker\"]\n",
    "\n",
    "marvel = [\"Iron Man\", \"Spider-Man\", \"Deadpool\", \"The Punisher\"]\n",
    "\n",
    "crossover = dc + marvel\n",
    "\n",
    "print(crossover )  # Salida: [\"Batman\", \"Peace Maker\", \"Flash\", \"Joker\", \"Iron Man\", \"Spider-Man\", \"Deadpool\", \"The Punisher\"]\n"
   ]
  },
  {
   "cell_type": "markdown",
   "metadata": {
    "id": "L03VPjq9lT6w"
   },
   "source": [
    "###**3.5.3  Longitud de la lista**"
   ]
  },
  {
   "cell_type": "code",
   "execution_count": 34,
   "metadata": {
    "colab": {
     "base_uri": "https://localhost:8080/"
    },
    "id": "FLX9MbBstga7",
    "outputId": "5e5bc0d0-4d33-4cd4-8e89-d1efa7b95c83"
   },
   "outputs": [
    {
     "name": "stdout",
     "output_type": "stream",
     "text": [
      "4\n"
     ]
    }
   ],
   "source": [
    "# Obtener la longitud de una lista\n",
    "dc = [\"Batman\", \"Peace Maker\", \"Flash\", \"Joker\"]\n",
    "\n",
    "longitud = len(dc)\n",
    "\n",
    "print(longitud)  # Salida: 4\n"
   ]
  },
  {
   "cell_type": "markdown",
   "metadata": {
    "id": "68VaniEElnnK"
   },
   "source": [
    "###**3.5.4  Eliminar elementos**"
   ]
  },
  {
   "cell_type": "code",
   "execution_count": 35,
   "metadata": {
    "colab": {
     "base_uri": "https://localhost:8080/"
    },
    "id": "1NSPR2RztmfW",
    "outputId": "f578d948-ad11-4034-ea50-debdc73784f2"
   },
   "outputs": [
    {
     "name": "stdout",
     "output_type": "stream",
     "text": [
      "['Batman', 'Peace Maker', 'Flash', 'Joker', 'Groot']\n",
      "['Batman', 'Peace Maker', 'Flash', 'Joker']\n"
     ]
    }
   ],
   "source": [
    "# Obtener la longitud de una lista\n",
    "dc = [\"Batman\", \"Peace Maker\", \"Flash\", \"Joker\", \"Groot\"]\n",
    "\n",
    "print(dc) # Salida: [\"Batman\", \"Peace Maker\", \"Flash\", \"Joker\", \"Groot\"]\n",
    "\n",
    "dc.remove(\"Groot\")\n",
    "\n",
    "print(dc)  # Salida: [\"Batman\", \"Peace Maker\", \"Flash\", \"Joker\" ]"
   ]
  },
  {
   "cell_type": "markdown",
   "metadata": {
    "id": "FrLraxDrB2_n"
   },
   "source": [
    "###**3.6. Iteración sobre listas**"
   ]
  },
  {
   "cell_type": "code",
   "execution_count": 36,
   "metadata": {
    "colab": {
     "base_uri": "https://localhost:8080/"
    },
    "id": "VlAzxz6cB89z",
    "outputId": "975f442c-8f4c-4199-e0c2-8d629d1190e3"
   },
   "outputs": [
    {
     "name": "stdout",
     "output_type": "stream",
     "text": [
      "Yo soy Pablo\n",
      "Yo soy Tyrone\n",
      "Yo soy Uniqua\n",
      "Yo soy Tasha\n",
      "Yo soy Austin\n",
      "Y juntos somos los backyardigans\n"
     ]
    }
   ],
   "source": [
    "# Iteración sobre una lista\n",
    "backyardigans = [\"Pablo\", \"Tyrone\", \"Uniqua\", \"Tasha\", \"Austin\"]\n",
    "\n",
    "for backyardigan in backyardigans:\n",
    "    print(f'Yo soy { backyardigan }')\n",
    "\n",
    "print(f'Y juntos somos los backyardigans')"
   ]
  },
  {
   "cell_type": "markdown",
   "metadata": {
    "id": "y11rIVHfCT6n"
   },
   "source": [
    "###**3.7. Rebanadas (slices)**"
   ]
  },
  {
   "cell_type": "code",
   "execution_count": 37,
   "metadata": {
    "colab": {
     "base_uri": "https://localhost:8080/"
    },
    "id": "PI2RJt46CbkI",
    "outputId": "15514b97-aad6-43f3-81a1-7cbf8757d418"
   },
   "outputs": [
    {
     "name": "stdout",
     "output_type": "stream",
     "text": [
      "[2, 3, 4]\n"
     ]
    }
   ],
   "source": [
    "# Rebanadas (slices) de una lista\n",
    "numeros = [1, 2, 3, 4, 5]\n",
    "\n",
    "sublista = numeros[1:4]  # Obtiene elementos del índice 1 al 3 (sin incluir el 4)\n",
    "\n",
    "print(sublista)  # Salida: [2, 3, 4]\n"
   ]
  },
  {
   "cell_type": "markdown",
   "metadata": {
    "id": "myJ7e3CDCUOL"
   },
   "source": [
    "###**3.8. Métodos útiles de listas**"
   ]
  },
  {
   "cell_type": "markdown",
   "metadata": {
    "id": "EfWcB-IqCsy6"
   },
   "source": [
    "Python proporciona varios métodos útiles para trabajar con listas, como **sort()**, **count()**, **index()**, **extend()**, entre otros."
   ]
  },
  {
   "cell_type": "code",
   "execution_count": 38,
   "metadata": {
    "colab": {
     "base_uri": "https://localhost:8080/"
    },
    "id": "krYEIrtMC3qD",
    "outputId": "e57fd662-a92b-4fc4-ceec-9a77bf261535"
   },
   "outputs": [
    {
     "name": "stdout",
     "output_type": "stream",
     "text": [
      "[1, 1, 2, 3, 3, 4, 5, 5, 5, 6, 9]\n"
     ]
    }
   ],
   "source": [
    "# Ejemplo de algunos métodos de lista\n",
    "numeros = [3, 1, 4, 1, 5, 9, 2, 6, 5, 3, 5]\n",
    "\n",
    "numeros.sort()  # Ordena la lista\n",
    "\n",
    "print(numeros)  # Salida: [1, 1, 2, 3, 3, 4, 5, 5, 5, 6, 9]"
   ]
  },
  {
   "cell_type": "code",
   "execution_count": 39,
   "metadata": {
    "colab": {
     "base_uri": "https://localhost:8080/"
    },
    "id": "k2_pB0HVDDkT",
    "outputId": "954117f1-b956-417f-d31f-0947b320c193"
   },
   "outputs": [
    {
     "name": "stdout",
     "output_type": "stream",
     "text": [
      "2\n"
     ]
    }
   ],
   "source": [
    "contador_unos = numeros.count(1)  # Cuenta cuántas veces aparece el número 1\n",
    "\n",
    "print(contador_unos)  # Salida: 2"
   ]
  },
  {
   "cell_type": "code",
   "execution_count": 40,
   "metadata": {
    "colab": {
     "base_uri": "https://localhost:8080/"
    },
    "id": "CDNcfi6WDFbU",
    "outputId": "df0e0306-d745-4028-dee9-39130987d4e1"
   },
   "outputs": [
    {
     "name": "stdout",
     "output_type": "stream",
     "text": [
      "6\n"
     ]
    }
   ],
   "source": [
    "indice_cinco = numeros.index(5)  # Obtiene el índice de la primera aparición del número 5\n",
    "\n",
    "print(indice_cinco)  # Salida: 6"
   ]
  },
  {
   "cell_type": "markdown",
   "metadata": {
    "id": "7O4EmanCEQTr"
   },
   "source": [
    "# **4) CONDICIONES**"
   ]
  },
  {
   "cell_type": "markdown",
   "metadata": {
    "id": "bUfRdGwDEQTs"
   },
   "source": [
    "##**4.1. Sentencia if**"
   ]
  },
  {
   "cell_type": "code",
   "execution_count": 41,
   "metadata": {
    "colab": {
     "base_uri": "https://localhost:8080/"
    },
    "id": "mM5aKaaVEQTt",
    "outputId": "3c321fd2-d188-42ca-8f4a-a7376a30e4f5"
   },
   "outputs": [
    {
     "name": "stdout",
     "output_type": "stream",
     "text": [
      "Eres mayor de edad.\n"
     ]
    }
   ],
   "source": [
    "# Ejemplo de sentencia if\n",
    "edad = 18\n",
    "if edad >= 18:\n",
    "    print(\"Eres mayor de edad.\") # Salida: Eres mayor de edad"
   ]
  },
  {
   "cell_type": "markdown",
   "metadata": {
    "id": "R0mL2Qz7E_mc"
   },
   "source": [
    "##**4.2. Sentencia if-else**"
   ]
  },
  {
   "cell_type": "code",
   "execution_count": 42,
   "metadata": {
    "colab": {
     "base_uri": "https://localhost:8080/"
    },
    "id": "p0AJOyi0TGsl",
    "outputId": "858e421c-7367-4ede-c56c-e8bae30c1361"
   },
   "outputs": [
    {
     "name": "stdout",
     "output_type": "stream",
     "text": [
      "Eres menor de edad.\n"
     ]
    }
   ],
   "source": [
    "# Ejemplo de sentencia if-else\n",
    "edad = 16\n",
    "if edad >= 18:\n",
    "    print(\"Eres mayor de edad.\")\n",
    "else:\n",
    "    print(\"Eres menor de edad.\")\n"
   ]
  },
  {
   "cell_type": "markdown",
   "metadata": {
    "id": "5-7GPa3OFAEZ"
   },
   "source": [
    "##**4.3. Sentencia if-elif-else**"
   ]
  },
  {
   "cell_type": "code",
   "execution_count": 43,
   "metadata": {
    "colab": {
     "base_uri": "https://localhost:8080/"
    },
    "id": "VxpbFumNTJE5",
    "outputId": "204f87be-f563-46a8-80d3-a8e050f31bec"
   },
   "outputs": [
    {
     "name": "stdout",
     "output_type": "stream",
     "text": [
      "Tienes una B.\n"
     ]
    }
   ],
   "source": [
    "# Ejemplo de sentencia if-elif-else\n",
    "nota = 85\n",
    "if nota >= 90:\n",
    "    print(\"Tienes una A.\")\n",
    "elif nota >= 80:\n",
    "    print(\"Tienes una B.\")\n",
    "elif nota >= 70:\n",
    "    print(\"Tienes una C.\")\n",
    "else:\n",
    "    print(\"Tienes una D o F.\")\n"
   ]
  },
  {
   "cell_type": "markdown",
   "metadata": {
    "id": "WWMQnqiuFAJ7"
   },
   "source": [
    "##**4.4. Operadores de comparación**"
   ]
  },
  {
   "cell_type": "code",
   "execution_count": 44,
   "metadata": {
    "colab": {
     "base_uri": "https://localhost:8080/"
    },
    "id": "YJ4Q2GM_TNh2",
    "outputId": "a0283d55-650a-4a3b-9325-3065ae063e8c"
   },
   "outputs": [
    {
     "name": "stdout",
     "output_type": "stream",
     "text": [
      "False\n"
     ]
    }
   ],
   "source": [
    "# Ejemplo de operadores de comparación\n",
    "x = 5\n",
    "y = 10\n",
    "resultado = x > y\n",
    "print(resultado)  # Salida: False\n"
   ]
  },
  {
   "cell_type": "markdown",
   "metadata": {
    "id": "F3DzuOMpFANT"
   },
   "source": [
    "##**4.5. Operadores lógicos**"
   ]
  },
  {
   "cell_type": "code",
   "execution_count": null,
   "metadata": {
    "colab": {
     "base_uri": "https://localhost:8080/"
    },
    "id": "gG2WtIHxTQmr",
    "outputId": "3e40a4c9-2cdc-4c40-e586-aee3ff0a0c9c"
   },
   "outputs": [
    {
     "name": "stdout",
     "output_type": "stream",
     "text": [
      "Cumpliste con los requisitos.\n"
     ]
    }
   ],
   "source": [
    "# Ejemplo de operadores lógicos\n",
    "# and, or, not\n",
    "edad = 25\n",
    "ingresos = 50000\n",
    "if edad >= 18 and ingresos >= 30000:\n",
    "    print(\"Cumpliste con los requisitos.\")\n",
    "else:\n",
    "    print(\"No cumples con los requisitos.\")\n"
   ]
  },
  {
   "cell_type": "markdown",
   "metadata": {
    "id": "O8winObmFlOS"
   },
   "source": [
    "##**4.6. Condiciones con listas**"
   ]
  },
  {
   "cell_type": "code",
   "execution_count": 46,
   "metadata": {
    "colab": {
     "base_uri": "https://localhost:8080/"
    },
    "id": "_uFbUXhRTXGd",
    "outputId": "62b2d253-cc8a-42be-de8c-dcb8674ee32e"
   },
   "outputs": [
    {
     "name": "stdout",
     "output_type": "stream",
     "text": [
      "mayonesa no está en la lista de instrumentos.\n"
     ]
    }
   ],
   "source": [
    "# Ejemplo de condición con listas\n",
    "instrumentos = [\"guitarra\", \"ukelele\", \"acordeón\"]\n",
    "\n",
    "instrumento = \"mayonesa\"\n",
    "\n",
    "if instrumento in instrumentos:\n",
    "    print(f\"{ instrumento } está en la lista de instrumentos.\")\n",
    "else:\n",
    "    print(f\"{ instrumento } no está en la lista de instrumentos.\")\n"
   ]
  },
  {
   "cell_type": "markdown",
   "metadata": {
    "id": "-tTo43JmFmgL"
   },
   "source": [
    "##**4.7. Condiciones anidadas**"
   ]
  },
  {
   "cell_type": "code",
   "execution_count": 47,
   "metadata": {
    "colab": {
     "base_uri": "https://localhost:8080/"
    },
    "id": "YaItM2HiT4Gg",
    "outputId": "b80ca684-e198-414e-803e-5ba53f7584c1"
   },
   "outputs": [
    {
     "name": "stdout",
     "output_type": "stream",
     "text": [
      "Eres mayor de edad.\n",
      "También puedes beber alcohol.\n"
     ]
    }
   ],
   "source": [
    "# Ejemplo de anidamiento de condiciones\n",
    "edad = 22\n",
    "if edad >= 18:\n",
    "    print(\"Eres mayor de edad.\")\n",
    "\n",
    "    if edad >= 21:\n",
    "        print(\"También puedes beber alcohol.\")\n",
    "else:\n",
    "    print(\"Eres menor de edad.\")\n"
   ]
  },
  {
   "cell_type": "markdown",
   "metadata": {
    "id": "OPdkhCbWUD0B"
   },
   "source": [
    "##**4.8. Condiciones anidadas con operadores lógicos**"
   ]
  },
  {
   "cell_type": "code",
   "execution_count": 48,
   "metadata": {
    "colab": {
     "base_uri": "https://localhost:8080/"
    },
    "id": "8EMUwLjKULmE",
    "outputId": "b3f2f99c-5c2d-44c6-8c45-c8c139c68cd4"
   },
   "outputs": [
    {
     "name": "stdout",
     "output_type": "stream",
     "text": [
      "Cumpliste con al menos uno de los requisitos.\n"
     ]
    }
   ],
   "source": [
    "# Ejemplo de condiciones anidadas con operadores lógicos\n",
    "edad = 30\n",
    "\n",
    "ingresos = 45000\n",
    "\n",
    "trabajo_estable = True\n",
    "\n",
    "if (edad >= 25 and ingresos >= 40000) or trabajo_estable:\n",
    "    print(\"Cumpliste con al menos uno de los requisitos.\")\n",
    "\n",
    "else:\n",
    "    print(\"No cumples con ningún requisito.\")\n"
   ]
  },
  {
   "cell_type": "markdown",
   "metadata": {
    "id": "4-VWhSU2FmkX"
   },
   "source": [
    "##**4.9. Operadores condicional (ternario)**"
   ]
  },
  {
   "cell_type": "code",
   "execution_count": 49,
   "metadata": {
    "colab": {
     "base_uri": "https://localhost:8080/"
    },
    "id": "54BavKzmUcrQ",
    "outputId": "ab8048f8-8206-44dd-efee-901e057c8d68"
   },
   "outputs": [
    {
     "name": "stdout",
     "output_type": "stream",
     "text": [
      "Eres mayor de edad.\n"
     ]
    }
   ],
   "source": [
    "# Ejemplo de operador condicional (ternario)\n",
    "edad = 20\n",
    "mensaje = \"Eres mayor de edad.\" if edad >= 18 else \"Eres menor de edad.\"\n",
    "print(mensaje)\n"
   ]
  },
  {
   "cell_type": "markdown",
   "metadata": {
    "id": "tnGiZNpaUyok"
   },
   "source": [
    "#### **EJERCICIO: Determinar quién puede ingresar a una fiesta**"
   ]
  },
  {
   "cell_type": "code",
   "execution_count": 50,
   "metadata": {
    "id": "MT5Anqj3Utg4"
   },
   "outputs": [],
   "source": [
    "# Lista de invitados\n",
    "invitados = [\n",
    "    {\"nombre\": \"Juan\", \"edad\": 25},\n",
    "    {\"nombre\": \"María\", \"edad\": 18},\n",
    "    {\"nombre\": \"Pedro\", \"edad\": 30},\n",
    "    {\"nombre\": \"Ana\", \"edad\": 16},\n",
    "    {\"nombre\": \"Carlos\", \"edad\": 21},\n",
    "]"
   ]
  },
  {
   "cell_type": "code",
   "execution_count": 51,
   "metadata": {
    "id": "x_hXROrTU5oi"
   },
   "outputs": [],
   "source": [
    "# Solicitar al usuario ingresar su nombre y edad\n",
    "nombre = input(\"Ingresa tu nombre: \")\n",
    "edad = int(input(\"Ingresa tu edad: \"))"
   ]
  },
  {
   "cell_type": "code",
   "execution_count": 52,
   "metadata": {
    "id": "GZt3kSpkVDue"
   },
   "outputs": [],
   "source": [
    "# Verificar si el usuario está en la lista de invitados\n",
    "esta_en_lista = False\n",
    "es_menor_de_edad = edad < 18"
   ]
  },
  {
   "cell_type": "code",
   "execution_count": 53,
   "metadata": {
    "id": "bl9_hTraVMT3"
   },
   "outputs": [],
   "source": [
    "# Revisamos la lista de invitados\n",
    "for invitado in invitados:\n",
    "    if invitado[\"nombre\"] == nombre and invitado[\"edad\"] >= 18:\n",
    "        esta_en_lista = True\n",
    "        break"
   ]
  },
  {
   "cell_type": "code",
   "execution_count": 54,
   "metadata": {
    "id": "Aul0054gVSqv"
   },
   "outputs": [],
   "source": [
    "# Determinar si el usuario puede ingresar a la fiesta\n",
    "puede_ingresar = esta_en_lista and not es_menor_de_edad"
   ]
  },
  {
   "cell_type": "code",
   "execution_count": 55,
   "metadata": {
    "id": "FaawqhiLVY7a"
   },
   "outputs": [
    {
     "name": "stdout",
     "output_type": "stream",
     "text": [
      "¡Hola Juan! Disfruta la fiesta :)\n"
     ]
    }
   ],
   "source": [
    "# Mostrar el resultado\n",
    "if puede_ingresar:\n",
    "    print(f'¡Hola { nombre }! Disfruta la fiesta :)')\n",
    "else:\n",
    "    print(\"Lo siento, no puedes ingresar a la fiesta.\")"
   ]
  },
  {
   "cell_type": "markdown",
   "metadata": {
    "id": "vZFCDQ3lYSeH"
   },
   "source": [
    "# **5) FUNCIONES: PARTE I**"
   ]
  },
  {
   "cell_type": "markdown",
   "metadata": {
    "id": "-AMfVrMMYjcU"
   },
   "source": [
    "##**5.1. Definición de funciones**"
   ]
  },
  {
   "cell_type": "code",
   "execution_count": 56,
   "metadata": {
    "colab": {
     "base_uri": "https://localhost:8080/"
    },
    "id": "ygSny2AFYX3s",
    "outputId": "658bde64-2395-4aa8-9f02-99c24b153f27"
   },
   "outputs": [
    {
     "name": "stdout",
     "output_type": "stream",
     "text": [
      "¡Hola!\n"
     ]
    }
   ],
   "source": [
    "# Definición de una función simple sin argumentos ni valor de retorno\n",
    "def saludar():\n",
    "    print(\"¡Hola!\")\n",
    "\n",
    "# Llamada a la función\n",
    "saludar()"
   ]
  },
  {
   "cell_type": "markdown",
   "metadata": {
    "id": "6jgO8QZKYqhy"
   },
   "source": [
    "##**5.2. Parámetros**"
   ]
  },
  {
   "cell_type": "code",
   "execution_count": 57,
   "metadata": {
    "colab": {
     "base_uri": "https://localhost:8080/"
    },
    "id": "BlvYBdpnYu1P",
    "outputId": "43ae35fe-11c2-4070-e750-3de73910b01f"
   },
   "outputs": [
    {
     "name": "stdout",
     "output_type": "stream",
     "text": [
      "¡Hola Juan!\n"
     ]
    }
   ],
   "source": [
    "# Definición de una función con parámetros\n",
    "def saludar(nombre):\n",
    "    print(f\"¡Hola { nombre }!\" )\n",
    "\n",
    "# Llamada a la función con un argumento\n",
    "saludar(\"Juan\")\n"
   ]
  },
  {
   "cell_type": "markdown",
   "metadata": {
    "id": "fma2qdRjY_7A"
   },
   "source": [
    "##**5.3. Valores de retorno**"
   ]
  },
  {
   "cell_type": "code",
   "execution_count": 58,
   "metadata": {
    "colab": {
     "base_uri": "https://localhost:8080/"
    },
    "id": "Ivmr5Cb3ZFE-",
    "outputId": "e59b04b2-8868-4300-f713-094703dcc189"
   },
   "outputs": [
    {
     "name": "stdout",
     "output_type": "stream",
     "text": [
      "El resultado de la suma es: 8\n"
     ]
    }
   ],
   "source": [
    "# Definición de una función que retorna un valor\n",
    "def suma(a, b):\n",
    "    resultado = a + b\n",
    "    return resultado\n",
    "\n",
    "# Llamada a la función y uso del valor retornado\n",
    "resultado_suma = suma(5, 3)\n",
    "print(\"El resultado de la suma es:\", resultado_suma)\n"
   ]
  },
  {
   "cell_type": "markdown",
   "metadata": {
    "id": "FXwVk37hSSpF"
   },
   "source": [
    "## **Actividad de refuerzo c:**"
   ]
  },
  {
   "cell_type": "markdown",
   "metadata": {
    "id": "BbrMk9OQZRfG"
   },
   "source": [
    "**CÓDIGO ASCII**\n",
    "\n",
    "\n",
    "---\n",
    "\n",
    "\n",
    "El código ASCII (American Standard Code for Information Interchange) es un sistema de codificación que asigna un valor numérico único a diferentes caracteres utilizados en la comunicación electrónica.\n",
    "\n",
    "El código ASCII utiliza 7 bits para representar **128 caracteres** diferentes. Estos caracteres incluyen letras mayúsculas y minúsculas, dígitos numéricos, signos de puntuación, símbolos matemáticos y una serie de caracteres de control utilizados para el formateo de texto y el control de dispositivos (por ejemplo \\n)\n",
    "\n",
    "\n",
    "---\n",
    "\n",
    "\n",
    "\n",
    "### **Actividad**\n",
    "El ejercicio es crear un conversor de texto a ASCII, así comprenderas como interpretan las computadoras, calculadoras, televisores, etc los carácteres.\n",
    "\n",
    "Te apoyaremos con dos funciones que permiten realizar esa conversión, pero **OJO** solo se puede realizar esa conversión si el **número entero está entre 0 y 127** (recuerda que en informática se empieza a contar desde cero).\n",
    "\n",
    "\n",
    "---\n",
    "\n",
    "\n",
    "**TIPS**\n",
    "- Utiliza listas que contengan cada caracter de tu nombre. Por ejemplo: **nombre = ['D','A','V','I','D']**\n",
    "- Te recomendamos realizar el conversor dentro de una función (para reutilizar código a un futuro), recuerda que debe devolver algo.\n",
    "- Para utilizar una condición para verificar datos utiliza\n",
    "\n",
    "```\n",
    "#  if isinstance(char, int): # Para verificar si es entero\n",
    "```\n",
    "\n",
    "\n",
    "- Itera sobre la lista usando un bucle.\n",
    "- Una vez que logres el convertidor puedes implementar las siguientes funciones para optimizar el código:\n",
    "\n",
    "\n",
    "```\n",
    "# # Función para convertir una cadena en una lista de caracteres\n",
    "def cadena_a_lista(cadena):\n",
    "    return list(cadena)\n",
    "\n",
    "# Función para convertir una lista de caracteres en una cadena\n",
    "def lista_a_cadena(lista):\n",
    "    return ''.join(lista)\n",
    "```\n",
    "\n"
   ]
  },
  {
   "cell_type": "code",
   "execution_count": 59,
   "metadata": {
    "id": "cU1jtXUDZ7ji"
   },
   "outputs": [],
   "source": [
    "# Función para convertir un número entero en su correspondiente carácter ASCII\n",
    "def entero_a_ascii(entero):\n",
    "    return chr(entero)\n",
    "\n",
    "# Función para convertir un carácter ASCII en su correspondiente número entero\n",
    "def ascii_a_entero(caracter):\n",
    "    return ord(caracter)"
   ]
  },
  {
   "cell_type": "code",
   "execution_count": 60,
   "metadata": {
    "id": "freNA9iQTkKq"
   },
   "outputs": [],
   "source": [
    "# Pon tu respuesta aquí\n",
    "# Con honooor hasta el final.\n",
    "def convertidor(cadena):\n",
    "  conversion = []\n",
    "\n",
    "  # codigo c:"
   ]
  },
  {
   "cell_type": "markdown",
   "metadata": {
    "id": "u4ZKizpMTfvN"
   },
   "source": [
    "### Solucion\n"
   ]
  },
  {
   "cell_type": "code",
   "execution_count": 61,
   "metadata": {
    "id": "rU3NX577e_n0"
   },
   "outputs": [],
   "source": [
    "def convertidor(cadena):\n",
    "  conversion = []\n",
    "\n",
    "  # Iterar sobre la lista (cadena) NO OLVIDES LA IDENTACIÓN (USA TAB PARA IDENTAR, NO ESPACIO)\n",
    "  for dato in cadena:\n",
    "\n",
    "  # Validar el tipo de dato para convertir\n",
    "    if isinstance(dato, int):\n",
    "    # Validar SI está dentro del rango, avisar al usuario sino (si el dato es entero)\n",
    "      if dato >= 0 and dato <= 127:\n",
    "        valor = entero_a_ascii(dato)\n",
    "        conversion.append(valor)\n",
    "\n",
    "    elif isinstance(dato, str):\n",
    "      valor = ascii_a_entero(dato)\n",
    "      conversion.append(valor)\n",
    "\n",
    "  return conversion\n",
    "\n"
   ]
  },
  {
   "cell_type": "markdown",
   "metadata": {
    "id": "YV8xD75BhWth"
   },
   "source": [
    "Cuando termines verifica tu código con los valores de prueba de abajo"
   ]
  },
  {
   "cell_type": "code",
   "execution_count": 62,
   "metadata": {
    "colab": {
     "base_uri": "https://localhost:8080/"
    },
    "id": "MuVT56ywbmKL",
    "outputId": "b179ecd8-576c-48f1-969d-3692082d788e"
   },
   "outputs": [
    {
     "name": "stdout",
     "output_type": "stream",
     "text": [
      "[68, 65, 86, 73, 68]\n",
      "['D', 'A', 'V', 'I', 'D']\n"
     ]
    }
   ],
   "source": [
    "# Escribe aquí la cadena que quieras\n",
    "cadena_1 = ['D', 'A', 'V', 'I', 'D']\n",
    "cadena_2 = [68, 65, 86, 73, 68]\n",
    "\n",
    "cadena_convertida_1 = convertidor(cadena_1)\n",
    "cadena_convertida_2 = convertidor(cadena_2)\n",
    "\n",
    "print(cadena_convertida_1) # Salida [68, 65, 86, 73, 68]\n",
    "print(cadena_convertida_2) # Salida ['D', 'A', 'V', 'I', 'D']"
   ]
  }
 ],
 "metadata": {
  "colab": {
   "collapsed_sections": [
    "rNo0WyYwgDX1",
    "vKIYIFu9m4-y"
   ],
   "provenance": []
  },
  "kernelspec": {
   "display_name": "Python 3",
   "name": "python3"
  },
  "language_info": {
   "codemirror_mode": {
    "name": "ipython",
    "version": 3
   },
   "file_extension": ".py",
   "mimetype": "text/x-python",
   "name": "python",
   "nbconvert_exporter": "python",
   "pygments_lexer": "ipython3",
   "version": "3.12.3"
  }
 },
 "nbformat": 4,
 "nbformat_minor": 0
}
