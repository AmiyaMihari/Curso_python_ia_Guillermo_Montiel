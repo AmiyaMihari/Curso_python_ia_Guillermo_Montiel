{
  "cells": [
    {
      "cell_type": "markdown",
      "metadata": {
        "id": "jhU2mwbsZhxz"
      },
      "source": [
        "# **Introducción al curso: Python básico**\n",
        "\n",
        "\n",
        "\n",
        "\n"
      ]
    },
    {
      "cell_type": "markdown",
      "metadata": {
        "id": "tjgKIQLbdj7K"
      },
      "source": [
        "### **Notebook 2: Aspectos intermedios de Python :D**\n",
        "1. Funciones: Parte II.\n",
        "2. Diccionarios.\n",
        "3. Comprensión de listas.\n",
        "4. Ejercicios.\n",
        "\n"
      ]
    },
    {
      "cell_type": "markdown",
      "metadata": {
        "id": "HnR39ZSGPmjX"
      },
      "source": [
        "# **1) FUNCIONES: PARTE II**"
      ]
    },
    {
      "cell_type": "markdown",
      "metadata": {
        "id": "GTbiHzz2PhO7"
      },
      "source": [
        "##**1.1. Argumentos con valores por defecto**"
      ]
    },
    {
      "cell_type": "code",
      "execution_count": 1,
      "metadata": {
        "colab": {
          "base_uri": "https://localhost:8080/"
        },
        "id": "cHkBBT9hZEv-",
        "outputId": "41c5e6a3-0dfc-4b7b-eda4-27a2bd3a0aaf"
      },
      "outputs": [
        {
          "name": "stdout",
          "output_type": "stream",
          "text": [
            "¡Hola, Deivi !\n",
            "¡Hola, protecsas gen 1 :) !\n",
            "¡Hola, Usuario !\n"
          ]
        }
      ],
      "source": [
        "# Definición de una función con argumento por defecto\n",
        "def saludar(nombre=\"Usuario\"):\n",
        "    print(\"¡Hola,\", nombre, \"!\")\n",
        "\n",
        "# Llamada a la función sin argumento\n",
        "saludar(\"Deivi\")\n",
        "saludar(\"protecsas gen 1 :)\")\n",
        "saludar()"
      ]
    },
    {
      "cell_type": "markdown",
      "metadata": {
        "id": "7yI1ZXSlYPdy"
      },
      "source": [
        "##**1.2. Funciones con número variable de argumentos**"
      ]
    },
    {
      "cell_type": "code",
      "execution_count": null,
      "metadata": {
        "colab": {
          "base_uri": "https://localhost:8080/"
        },
        "id": "6v8wePpcZLZ7",
        "outputId": "f04b086b-d67d-49eb-f4ca-a9e8cbcc563d"
      },
      "outputs": [
        {
          "name": "stdout",
          "output_type": "stream",
          "text": [
            "Resultado 1: 6\n",
            "Resultado 2: 150\n"
          ]
        }
      ],
      "source": [
        "# Definición de una función con número variable de argumentos\n",
        "def suma(*numeros):\n",
        "    resultado = 0\n",
        "    for numero in numeros:\n",
        "        resultado += numero\n",
        "    return resultado\n",
        "\n",
        "# Llamada a la función con diferentes números de argumentos\n",
        "resultado_suma1 = suma(1, 2, 3)\n",
        "resultado_suma2 = suma(10, 20, 30, 40, 50)\n",
        "print(\"Resultado 1:\", resultado_suma1)\n",
        "print(\"Resultado 2:\", resultado_suma2)"
      ]
    },
    {
      "cell_type": "markdown",
      "metadata": {
        "id": "ijr1YqaQYZub"
      },
      "source": [
        "##**1.3. Funciones recursivas**"
      ]
    },
    {
      "cell_type": "code",
      "execution_count": 3,
      "metadata": {
        "colab": {
          "base_uri": "https://localhost:8080/"
        },
        "id": "zj6sMHzmZO_F",
        "outputId": "500c0035-3dbf-44a1-fcde-bae5e9111411"
      },
      "outputs": [
        {
          "name": "stdout",
          "output_type": "stream",
          "text": [
            "El factorial de 5 es: 120\n"
          ]
        }
      ],
      "source": [
        "# Definición de una función recursiva para calcular el factorial\n",
        "def factorial(n):\n",
        "    if n == 0:\n",
        "        return 1\n",
        "    else:\n",
        "        return (n * factorial(n - 1))\n",
        "\n",
        "# Llamada a la función recursiva\n",
        "resultado_factorial = factorial(5)\n",
        "print(\"El factorial de 5 es:\", resultado_factorial)\n"
      ]
    },
    {
      "cell_type": "code",
      "execution_count": 4,
      "metadata": {
        "colab": {
          "base_uri": "https://localhost:8080/",
          "height": 344
        },
        "id": "gjGycFDUIOEI",
        "outputId": "07e2c2fe-badc-49c0-dc6d-c2b3361f723e"
      },
      "outputs": [
        {
          "name": "stdout",
          "output_type": "stream",
          "text": [
            "El factorial de 1000 es: 402387260077093773543702433923003985719374864210714632543799910429938512398629020592044208486969404800479988610197196058631666872994808558901323829669944590997424504087073759918823627727188732519779505950995276120874975462497043601418278094646496291056393887437886487337119181045825783647849977012476632889835955735432513185323958463075557409114262417474349347553428646576611667797396668820291207379143853719588249808126867838374559731746136085379534524221586593201928090878297308431392844403281231558611036976801357304216168747609675871348312025478589320767169132448426236131412508780208000261683151027341827977704784635868170164365024153691398281264810213092761244896359928705114964975419909342221566832572080821333186116811553615836546984046708975602900950537616475847728421889679646244945160765353408198901385442487984959953319101723355556602139450399736280750137837615307127761926849034352625200015888535147331611702103968175921510907788019393178114194545257223865541461062892187960223838971476088506276862967146674697562911234082439208160153780889893964518263243671616762179168909779911903754031274622289988005195444414282012187361745992642956581746628302955570299024324153181617210465832036786906117260158783520751516284225540265170483304226143974286933061690897968482590125458327168226458066526769958652682272807075781391858178889652208164348344825993266043367660176999612831860788386150279465955131156552036093988180612138558600301435694527224206344631797460594682573103790084024432438465657245014402821885252470935190620929023136493273497565513958720559654228749774011413346962715422845862377387538230483865688976461927383814900140767310446640259899490222221765904339901886018566526485061799702356193897017860040811889729918311021171229845901641921068884387121855646124960798722908519296819372388642614839657382291123125024186649353143970137428531926649875337218940694281434118520158014123344828015051399694290153483077644569099073152433278288269864602789864321139083506217095002597389863554277196742822248757586765752344220207573630569498825087968928162753848863396909959826280956121450994871701244516461260379029309120889086942028510640182154399457156805941872748998094254742173582401063677404595741785160829230135358081840096996372524230560855903700624271243416909004153690105933983835777939410970027753472000000000000000000000000000000000000000000000000000000000000000000000000000000000000000000000000000000000000000000000000000000000000000000000000000000000000000000000000000000000000000000000000000000000000000000000000000000000000000000000000000000000\n"
          ]
        }
      ],
      "source": [
        "resultado_factorial = factorial(1000)\n",
        "print(\"El factorial de 1000 es:\", resultado_factorial)"
      ]
    },
    {
      "cell_type": "markdown",
      "metadata": {
        "id": "OS_N4cYzYaTC"
      },
      "source": [
        "##**1.4. Funciones lambda (anónimas)**"
      ]
    },
    {
      "cell_type": "code",
      "execution_count": null,
      "metadata": {
        "colab": {
          "base_uri": "https://localhost:8080/"
        },
        "id": "EwSJ43A-ZTJv",
        "outputId": "df368f20-fe80-4189-c187-ff44686d78fe"
      },
      "outputs": [
        {
          "name": "stdout",
          "output_type": "stream",
          "text": [
            "El cuadrado de 5 es: 125\n"
          ]
        }
      ],
      "source": [
        "# Uso de una función lambda para elevar al cuadrado\n",
        "cuadrado = lambda x: x ** 3\n",
        "\n",
        "# Uso de la función lambda\n",
        "resultado_cuadrado = cuadrado(5)\n",
        "print(\"El cuadrado de 5 es:\", resultado_cuadrado)"
      ]
    },
    {
      "cell_type": "markdown",
      "metadata": {
        "id": "WzjMr7NgYlna"
      },
      "source": [
        "##**1.5. Alcance de variables (scope)**"
      ]
    },
    {
      "cell_type": "code",
      "execution_count": 6,
      "metadata": {
        "colab": {
          "base_uri": "https://localhost:8080/"
        },
        "id": "oSNPoZc9ZYaT",
        "outputId": "c4b65ddf-7cba-46ac-bd0b-9c4ea64fdd04"
      },
      "outputs": [
        {
          "name": "stdout",
          "output_type": "stream",
          "text": [
            "El resultado de la suma es: 18\n"
          ]
        }
      ],
      "source": [
        "# Variable global\n",
        "variable_global = 10\n",
        "\n",
        "# Función que utiliza una variable local y global\n",
        "def suma_con_variable_local(a):\n",
        "    variable_local = 5\n",
        "    return a + variable_local + variable_global\n",
        "\n",
        "# Llamada a la función\n",
        "resultado = suma_con_variable_local(3)\n",
        "print(\"El resultado de la suma es:\", resultado)"
      ]
    },
    {
      "cell_type": "markdown",
      "metadata": {
        "id": "UhLKvXGdYzvR"
      },
      "source": [
        "##**1.7. Módulos y funciones incorporadas**"
      ]
    },
    {
      "cell_type": "code",
      "execution_count": 7,
      "metadata": {
        "colab": {
          "base_uri": "https://localhost:8080/"
        },
        "id": "g_a1StzsZjLm",
        "outputId": "31db5b71-277d-4f77-ba55-c37b5ab804bf"
      },
      "outputs": [
        {
          "name": "stdout",
          "output_type": "stream",
          "text": [
            "La raíz cuadrada de 25 es: 5.0\n",
            "La longitud de la cadena es: 12\n"
          ]
        }
      ],
      "source": [
        "# Importar el módulo math para usar funciones matemáticas\n",
        "import math\n",
        "\n",
        "# Uso de funciones del módulo math\n",
        "raiz_cuadrada = math.sqrt(25)\n",
        "print(\"La raíz cuadrada de 25 es:\", raiz_cuadrada)\n",
        "\n",
        "# Uso de una función incorporada\n",
        "longitud = len(\"Hola, mundo!\")\n",
        "print(\"La longitud de la cadena es:\", longitud)"
      ]
    },
    {
      "cell_type": "markdown",
      "metadata": {
        "id": "00KhxurQLPF2"
      },
      "source": [
        "# **2) DICCIONARIOS**"
      ]
    },
    {
      "cell_type": "markdown",
      "metadata": {
        "id": "JbzGcqwGMoWg"
      },
      "source": [
        "**¿Qué son los Diccionarios?**\n",
        "\n",
        "En Python, un diccionario es una estructura de datos que permite almacenar y organizar información en pares clave-valor. Cada clave se asocia con un valor y se puede utilizar para acceder rápidamente a los datos."
      ]
    },
    {
      "cell_type": "markdown",
      "metadata": {
        "id": "C055skjcLTVT"
      },
      "source": [
        "##**2.1. Creación de Diccionarios**"
      ]
    },
    {
      "cell_type": "code",
      "execution_count": 8,
      "metadata": {
        "id": "BuQQ9hbaMMrI"
      },
      "outputs": [],
      "source": [
        "# Crear un diccionario de nombres y edades\n",
        "protecsas = {\"AleMorras\": 21, \"LeoSigma\": 20, \"Eithungas\": 21, \"Abrahamsuki\": 25}\n",
        "\n",
        "# Crear un diccionario vacío\n",
        "animes = {}"
      ]
    },
    {
      "cell_type": "markdown",
      "metadata": {
        "id": "IsbjQ-nOLpwl"
      },
      "source": [
        "##**2.2. Acceso a Valores en un Diccionario**"
      ]
    },
    {
      "cell_type": "code",
      "execution_count": 9,
      "metadata": {
        "colab": {
          "base_uri": "https://localhost:8080/"
        },
        "id": "7LBm9j8jMQL-",
        "outputId": "5fdcabdf-6460-4f80-a793-8a2bfa691f1c"
      },
      "outputs": [
        {
          "name": "stdout",
          "output_type": "stream",
          "text": [
            "21\n"
          ]
        }
      ],
      "source": [
        "# Acceder al valor de una clave\n",
        "print(protecsas[\"AleMorras\"] )"
      ]
    },
    {
      "cell_type": "markdown",
      "metadata": {
        "id": "YUCxNNt1LwHU"
      },
      "source": [
        "##**2.3. Modificación y Agregado de Elementos**"
      ]
    },
    {
      "cell_type": "code",
      "execution_count": 10,
      "metadata": {
        "id": "gldcvZLvMSZi"
      },
      "outputs": [],
      "source": [
        "# Modificar el valor de una clave\n",
        "protecsas[\"AleMorras\"] = 25\n",
        "\n",
        "# Agregar un nuevo elemento al diccionario\n",
        "protecsas[\"Javis\"] = 22"
      ]
    },
    {
      "cell_type": "code",
      "execution_count": 11,
      "metadata": {
        "colab": {
          "base_uri": "https://localhost:8080/"
        },
        "id": "Ezw3jr8zVmHx",
        "outputId": "5b12d9bb-160d-49cd-fe3a-b68682ea3ede"
      },
      "outputs": [
        {
          "name": "stdout",
          "output_type": "stream",
          "text": [
            "{'AleMorras': 25, 'LeoSigma': 20, 'Eithungas': 21, 'Abrahamsuki': 25, 'Javis': 22}\n"
          ]
        }
      ],
      "source": [
        "print(protecsas)"
      ]
    },
    {
      "cell_type": "markdown",
      "metadata": {
        "id": "PYOJXxJQLwRc"
      },
      "source": [
        "##**2.4. Eliminación de Elementos**"
      ]
    },
    {
      "cell_type": "code",
      "execution_count": 12,
      "metadata": {
        "id": "tUWTOs8mMVnN"
      },
      "outputs": [],
      "source": [
        "# Eliminar un elemento del diccionario\n",
        "del protecsas[\"LeoSigma\"]"
      ]
    },
    {
      "cell_type": "code",
      "execution_count": 13,
      "metadata": {
        "colab": {
          "base_uri": "https://localhost:8080/"
        },
        "id": "JWBjsArdeGaw",
        "outputId": "4efa10d6-86e6-46c5-c129-d7810ca6195d"
      },
      "outputs": [
        {
          "data": {
            "text/plain": [
              "{'AleMorras': 25, 'Eithungas': 21, 'Abrahamsuki': 25, 'Javis': 22}"
            ]
          },
          "execution_count": 13,
          "metadata": {},
          "output_type": "execute_result"
        }
      ],
      "source": [
        "protecsas"
      ]
    },
    {
      "cell_type": "markdown",
      "metadata": {
        "id": "DJbp6GkjLwf8"
      },
      "source": [
        "##**2.5. Métodos de Diccionarios**"
      ]
    },
    {
      "cell_type": "code",
      "execution_count": 14,
      "metadata": {
        "id": "WfvLLc8iMXOy"
      },
      "outputs": [],
      "source": [
        "# Obtener todas las claves del diccionario\n",
        "claves = protecsas.keys()\n",
        "\n",
        "# Obtener todos los valores del diccionario\n",
        "valores = protecsas.values()\n",
        "\n",
        "# Obtener pares clave-valor como tuplas\n",
        "items = protecsas.items()"
      ]
    },
    {
      "cell_type": "code",
      "execution_count": 15,
      "metadata": {
        "colab": {
          "base_uri": "https://localhost:8080/"
        },
        "id": "mzKE0nxKVeim",
        "outputId": "8577006e-8f30-4538-b2dc-4d25c0a1cdef"
      },
      "outputs": [
        {
          "name": "stdout",
          "output_type": "stream",
          "text": [
            "dict_keys(['AleMorras', 'Eithungas', 'Abrahamsuki', 'Javis'])\n",
            "dict_values([25, 21, 25, 22])\n",
            "dict_items([('AleMorras', 25), ('Eithungas', 21), ('Abrahamsuki', 25), ('Javis', 22)])\n"
          ]
        }
      ],
      "source": [
        "print(claves)\n",
        "print(valores)\n",
        "print(items)"
      ]
    },
    {
      "cell_type": "markdown",
      "metadata": {
        "id": "3o9ErvtLMHat"
      },
      "source": [
        "##**2.6. Uso de Diccionarios**"
      ]
    },
    {
      "cell_type": "code",
      "execution_count": 16,
      "metadata": {
        "colab": {
          "base_uri": "https://localhost:8080/"
        },
        "id": "Z4cdudD6MZEz",
        "outputId": "dbae5f71-614d-4630-aced-0fad8ca4f28e"
      },
      "outputs": [
        {
          "name": "stdout",
          "output_type": "stream",
          "text": [
            "La traducción de 'hello' es 'hola'\n"
          ]
        }
      ],
      "source": [
        "# Ejemplo: Diccionario de traducciones\n",
        "traducciones = {\"hello\": \"hola\", \"goodbye\": \"adiós\", \"thanks\": \"gracias\"}\n",
        "\n",
        "# Obtener la traducción de una palabra\n",
        "palabra = \"hello\"\n",
        "print(f\"La traducción de '{palabra}' es '{traducciones['hello']}'\")"
      ]
    },
    {
      "cell_type": "markdown",
      "metadata": {
        "id": "6Qw9i94LM1mt"
      },
      "source": [
        "# **3) COMPRENSIÓN DE LISTAS**"
      ]
    },
    {
      "cell_type": "markdown",
      "metadata": {
        "id": "nbwDDFntM1mu"
      },
      "source": [
        "**¿Qué es la Comprensión de Listas?**\n",
        "\n",
        "La comprensión de listas es una forma concisa y poderosa de crear listas en Python. Permite generar listas nuevas aplicando una expresión a cada elemento de otra secuencia (como una lista, tupla o rango) o iterando sobre elementos que cumplen una condición específica."
      ]
    },
    {
      "cell_type": "markdown",
      "metadata": {
        "id": "DAdsTenwNKT_"
      },
      "source": [
        "##**3.1. Sintaxis de la Comprensión de Listas**"
      ]
    },
    {
      "cell_type": "markdown",
      "metadata": {
        "id": "4JgTWBkuNWIr"
      },
      "source": [
        "La sintaxis general de la comprensión de listas es: **[expresion for elemento in secuencia if condicion]**."
      ]
    },
    {
      "cell_type": "code",
      "execution_count": 17,
      "metadata": {
        "id": "eD-KW19sNdaS"
      },
      "outputs": [],
      "source": [
        "# Crear una lista de cuadrados usando comprensión de listas\n",
        "numeros = [1, 2, 3, 4, 5]\n",
        "cuadrados = [x ** 2 for x in numeros]"
      ]
    },
    {
      "cell_type": "code",
      "execution_count": 18,
      "metadata": {
        "colab": {
          "base_uri": "https://localhost:8080/"
        },
        "id": "pCV07yJJfufU",
        "outputId": "11b92ded-5979-4881-b89b-4cc2b888ec15"
      },
      "outputs": [
        {
          "data": {
            "text/plain": [
              "[1, 4, 9, 16, 25]"
            ]
          },
          "execution_count": 18,
          "metadata": {},
          "output_type": "execute_result"
        }
      ],
      "source": [
        "cuadrados"
      ]
    },
    {
      "cell_type": "code",
      "execution_count": 19,
      "metadata": {
        "id": "lP6702ruNw_L"
      },
      "outputs": [],
      "source": [
        "# Crear una lista de números pares usando comprensión de listas con condición\n",
        "pares = [x for x in numeros if x % 2 != 0]"
      ]
    },
    {
      "cell_type": "code",
      "execution_count": 20,
      "metadata": {
        "colab": {
          "base_uri": "https://localhost:8080/"
        },
        "id": "RNVP2EsBg5Z8",
        "outputId": "523c0af5-8aef-4607-b78e-bfdde36ca7ac"
      },
      "outputs": [
        {
          "data": {
            "text/plain": [
              "[1, 3, 5]"
            ]
          },
          "execution_count": 20,
          "metadata": {},
          "output_type": "execute_result"
        }
      ],
      "source": [
        "pares"
      ]
    },
    {
      "cell_type": "markdown",
      "metadata": {
        "id": "EIvaQMaTRxiN"
      },
      "source": [
        "##**3.2. Usos Comunes de la Comprensión de Listas**"
      ]
    },
    {
      "cell_type": "markdown",
      "metadata": {
        "id": "QtELIPDRR9HD"
      },
      "source": [
        "*    **Aplicación de Expresión**: Puedes aplicar una operación o expresión a cada elemento de una secuencia para crear una nueva lista.\n",
        "*   **Filtrado de Elementos**: Puedes usar una condición para filtrar elementos y crear una lista con solo los elementos que cumplan esa condición.\n",
        "*    **Transformación de Datos**: Puedes transformar y reorganizar datos de manera eficiente.\n",
        "\n",
        "\n",
        "\n",
        "\n"
      ]
    },
    {
      "cell_type": "code",
      "execution_count": 35,
      "metadata": {
        "colab": {
          "base_uri": "https://localhost:8080/"
        },
        "id": "qCsw-5pNUdBa",
        "outputId": "67e40c8b-e87e-466f-c6ca-b0e4082b4a50"
      },
      "outputs": [
        {
          "name": "stdout",
          "output_type": "stream",
          "text": [
            "[0, 6, 12, 18]\n"
          ]
        }
      ],
      "source": [
        "# Crear una lista de números pares del 0 al 10\n",
        "pares = [x for x in range(21) if (x % 3 == 0) and (x % 2 == 0)]\n",
        "print(pares)"
      ]
    },
    {
      "cell_type": "code",
      "execution_count": 36,
      "metadata": {
        "colab": {
          "base_uri": "https://localhost:8080/"
        },
        "id": "3YZiPrt-UeKw",
        "outputId": "67c9cf07-5be7-4e81-9e3a-97f60e5db928"
      },
      "outputs": [
        {
          "name": "stdout",
          "output_type": "stream",
          "text": [
            "[1, 4, 9, 16, 25]\n"
          ]
        }
      ],
      "source": [
        "# Crear una lista de cuadrados de los números del 1 al 5\n",
        "cuadrados = [x ** 2 for x in range(1, 6)]\n",
        "print(cuadrados)"
      ]
    },
    {
      "cell_type": "code",
      "execution_count": 38,
      "metadata": {
        "colab": {
          "base_uri": "https://localhost:8080/"
        },
        "id": "iQvGi0nKUfP0",
        "outputId": "beecd61c-909f-44e1-9504-561f19676aed"
      },
      "outputs": [
        {
          "name": "stdout",
          "output_type": "stream",
          "text": [
            "['Python', 'es', 'genial']\n",
            "['P', 'e', 'g']\n"
          ]
        }
      ],
      "source": [
        "# Crear una lista de las primeras letras de cada palabra en una lista de palabras\n",
        "palabras = [\"Python\", \"es\", \"genial\"]\n",
        "print(palabras)\n",
        "\n",
        "primeras_letras = [palabra[0] for palabra in palabras]\n",
        "print(primeras_letras)"
      ]
    },
    {
      "cell_type": "code",
      "execution_count": 24,
      "metadata": {
        "colab": {
          "base_uri": "https://localhost:8080/"
        },
        "id": "ATtTRuuWUfyZ",
        "outputId": "ba051993-b56c-4fa4-dce1-fe3520e0ac84"
      },
      "outputs": [
        {
          "name": "stdout",
          "output_type": "stream",
          "text": [
            "[1, 8, 3, 10, 5, 7]\n",
            "[8, 10, 7]\n"
          ]
        }
      ],
      "source": [
        "# Crear una lista de números mayores a 5 en una lista de números\n",
        "numeros = [1, 8, 3, 10, 5, 7]\n",
        "print(numeros)\n",
        "\n",
        "mayores_a_cinco = [x for x in numeros if x > 5]\n",
        "print(mayores_a_cinco)"
      ]
    },
    {
      "cell_type": "markdown",
      "metadata": {
        "id": "wSMj5HcrVz1D"
      },
      "source": [
        "##**3.3. Ejercicio: Crear un diccionario con nombres y edades, y luego filtrar los mayores de edad**"
      ]
    },
    {
      "cell_type": "code",
      "execution_count": 25,
      "metadata": {
        "id": "aVV5ACR3V8vy"
      },
      "outputs": [],
      "source": [
        "# Ejercicio: Crear un diccionario con nombres y edades, y luego filtrar los mayores de edad\n",
        "personas = [\n",
        "    {\"nombre\": \"Juan\", \"edad\": 25},\n",
        "    {\"nombre\": \"María\", \"edad\": 17},\n",
        "    {\"nombre\": \"Carlos\", \"edad\": 30},\n",
        "    {\"nombre\": \"Laura\", \"edad\": 16},\n",
        "    {\"nombre\": \"Andrés\", \"edad\": 22}\n",
        "]"
      ]
    },
    {
      "cell_type": "code",
      "execution_count": 26,
      "metadata": {
        "colab": {
          "base_uri": "https://localhost:8080/"
        },
        "id": "m8zVheS2XVnz",
        "outputId": "d19bd5f6-a9a2-4909-aad1-e5cc0c845e26"
      },
      "outputs": [
        {
          "data": {
            "text/plain": [
              "[{'nombre': 'Juan', 'edad': 25},\n",
              " {'nombre': 'Carlos', 'edad': 30},\n",
              " {'nombre': 'Andrés', 'edad': 22}]"
            ]
          },
          "execution_count": 26,
          "metadata": {},
          "output_type": "execute_result"
        }
      ],
      "source": [
        "# Usar comprensión de listas y diccionarios para filtrar las personas mayores de edad\n",
        "# Itera sobre los elementos de la lista y verificar si el valor edad es mayor o igual a 18\n",
        "mayores_de_edad = [persona for persona in personas if persona[\"edad\"] >= 18]\n",
        "mayores_de_edad"
      ]
    },
    {
      "cell_type": "markdown",
      "metadata": {
        "id": "vgENjy7-7Z-I"
      },
      "source": [
        "# **4) EJERCICIOS**"
      ]
    },
    {
      "cell_type": "markdown",
      "metadata": {
        "id": "tDwew5Gs7pts"
      },
      "source": [
        "##**4.1. Listas**"
      ]
    },
    {
      "cell_type": "markdown",
      "metadata": {
        "id": "CJ99muqX8SQJ"
      },
      "source": [
        "###**4.1.1 Suma de Elementos:**"
      ]
    },
    {
      "cell_type": "code",
      "execution_count": 27,
      "metadata": {
        "colab": {
          "base_uri": "https://localhost:8080/"
        },
        "id": "pn1rslWv-TWd",
        "outputId": "cee9f5e2-5ada-4823-b1d2-c4b3ff075a2a"
      },
      "outputs": [
        {
          "name": "stdout",
          "output_type": "stream",
          "text": [
            "15\n"
          ]
        }
      ],
      "source": [
        "lista_numeros = [1, 2, 3, 4, 5]\n",
        "suma = sum(lista_numeros)\n",
        "print(suma)"
      ]
    },
    {
      "cell_type": "markdown",
      "metadata": {
        "id": "mw_UyCpm7yo6"
      },
      "source": [
        "###**4.1.2 Números Pares:**"
      ]
    },
    {
      "cell_type": "code",
      "execution_count": 28,
      "metadata": {
        "colab": {
          "base_uri": "https://localhost:8080/"
        },
        "id": "UbHNfist-WjU",
        "outputId": "6cf8c556-6505-4201-d3db-6f0236dfead7"
      },
      "outputs": [
        {
          "name": "stdout",
          "output_type": "stream",
          "text": [
            "[2, 4, 6, 8, 10, 12, 14, 16, 18, 20, 22, 24, 26, 28, 30, 32, 34, 36, 38, 40, 42, 44, 46, 48, 50, 52, 54, 56, 58, 60, 62, 64, 66, 68, 70, 72, 74, 76, 78, 80, 82, 84, 86, 88, 90, 92, 94, 96, 98, 100, 102, 104, 106, 108, 110, 112, 114, 116, 118, 120, 122, 124, 126, 128, 130, 132, 134, 136, 138, 140, 142, 144, 146, 148, 150, 152, 154, 156, 158, 160, 162, 164, 166, 168, 170, 172, 174, 176, 178, 180, 182, 184, 186, 188, 190, 192, 194, 196, 198]\n"
          ]
        }
      ],
      "source": [
        "lista_numeros = [x for x in range(1,200)]\n",
        "numeros_pares = [numero for numero in lista_numeros if numero % 2 == 0]\n",
        "print(numeros_pares)"
      ]
    },
    {
      "cell_type": "markdown",
      "metadata": {
        "id": "9kYbmNYH7yzY"
      },
      "source": [
        "###**4.1.3 Eliminar Duplicados:**"
      ]
    },
    {
      "cell_type": "code",
      "execution_count": 29,
      "metadata": {
        "colab": {
          "base_uri": "https://localhost:8080/"
        },
        "id": "kyHetibC-pYy",
        "outputId": "c1e46c46-593f-4ac1-eaa4-c82175d19ce1"
      },
      "outputs": [
        {
          "name": "stdout",
          "output_type": "stream",
          "text": [
            "[1, 2, 3, 4, 5]\n"
          ]
        }
      ],
      "source": [
        "lista_con_duplicados = [1, 2, 2, 3, 4, 4, 5]\n",
        "lista_sin_duplicados = list(set(lista_con_duplicados))\n",
        "print(lista_sin_duplicados)"
      ]
    },
    {
      "cell_type": "markdown",
      "metadata": {
        "id": "0F8TVts-7y4w"
      },
      "source": [
        "###**4.1.4 Longitud de Palabras:**"
      ]
    },
    {
      "cell_type": "code",
      "execution_count": 30,
      "metadata": {
        "colab": {
          "base_uri": "https://localhost:8080/"
        },
        "id": "O8lJ2fW--owI",
        "outputId": "370648e5-09a3-4c7a-fc11-fec5e73ca4e3"
      },
      "outputs": [
        {
          "name": "stdout",
          "output_type": "stream",
          "text": [
            "[4, 5, 6]\n"
          ]
        }
      ],
      "source": [
        "lista_palabras = ['hola', 'mundo', 'python']\n",
        "longitud_palabras = [len(palabra) for palabra in lista_palabras]\n",
        "print(longitud_palabras)"
      ]
    },
    {
      "cell_type": "markdown",
      "metadata": {
        "id": "f6Km7hff7y8H"
      },
      "source": [
        "##**4.2. Diccionarios:**"
      ]
    },
    {
      "cell_type": "markdown",
      "metadata": {
        "id": "arC7ZzEM83G0"
      },
      "source": [
        "###**4.2.1 Conteo de Caracteres:**"
      ]
    },
    {
      "cell_type": "code",
      "execution_count": 31,
      "metadata": {
        "colab": {
          "base_uri": "https://localhost:8080/"
        },
        "id": "Z6UABjhD_iZP",
        "outputId": "d7abd1e2-9c94-47d2-95ae-0521ae2c94f3"
      },
      "outputs": [
        {
          "name": "stdout",
          "output_type": "stream",
          "text": [
            "{'h': 1, 'o': 2, 'l': 1, 'a': 1, 'm': 1, 'u': 1, 'n': 1, 'd': 1}\n"
          ]
        }
      ],
      "source": [
        "cadena = \"hola mundo          \"\n",
        "conteo_caracteres = {caracter: cadena.count(caracter) for caracter in cadena if caracter != ' '}\n",
        "print(conteo_caracteres)"
      ]
    },
    {
      "cell_type": "markdown",
      "metadata": {
        "id": "qs2HhpKpAWtY"
      },
      "source": [
        "###**4.2.2 Conteo de palabras:**"
      ]
    },
    {
      "cell_type": "code",
      "execution_count": 40,
      "metadata": {
        "colab": {
          "base_uri": "https://localhost:8080/"
        },
        "id": "ZHMuoVSnACiN",
        "outputId": "868e4167-de1b-4b31-acf3-2ffc2617c16f"
      },
      "outputs": [
        {
          "name": "stdout",
          "output_type": "stream",
          "text": [
            "['ola', 'mundo']\n",
            "['ola', 'mundo']\n",
            "Conteo de palabras:\n",
            "{'mundo': 1, 'ola': 1}\n"
          ]
        }
      ],
      "source": [
        "# Solicitar al usuario ingresar una oración\n",
        "oracion = input(\"Ingrese una oración: \")\n",
        "\n",
        "# Convertir la oración a minúsculas y dividirla en palabras\n",
        "palabras = oracion.lower().split()\n",
        "\n",
        "print(palabras)\n",
        "\n",
        "# Ignorar los signos de puntuación básicos\n",
        "palabras = [palabra.strip('.,!?()[]{}\"\\'') for palabra in palabras]\n",
        "\n",
        "print(palabras)\n",
        "\n",
        "# Crear un diccionario de conteo de palabras usando comprensión de listas\n",
        "conteo_palabras = {palabra: palabras.count(palabra) for palabra in set(palabras)}\n",
        "\n",
        "# Imprimir el diccionario de conteo de palabras\n",
        "print(\"Conteo de palabras:\")\n",
        "print(conteo_palabras)"
      ]
    },
    {
      "cell_type": "markdown",
      "metadata": {
        "id": "HOLKZet08sn5"
      },
      "source": [
        "###**4.2.3 Promedio de Valores:**"
      ]
    },
    {
      "cell_type": "code",
      "execution_count": 33,
      "metadata": {
        "colab": {
          "base_uri": "https://localhost:8080/"
        },
        "id": "oGxymS0zAjFH",
        "outputId": "59894d4a-b9f8-441f-c414-b8c147ac496c"
      },
      "outputs": [
        {
          "name": "stdout",
          "output_type": "stream",
          "text": [
            "{'Juan': 87.66666666666667, 'Maria': 86.33333333333333}\n"
          ]
        }
      ],
      "source": [
        "diccionario_numeros = {'Juan': [85, 90, 88], 'Maria': [92, 89, 78]}\n",
        "\n",
        "# for clave, valor\n",
        "promedios = {nombre: sum(notas) / len(notas) for nombre, notas in diccionario_numeros.items()}\n",
        "print(promedios)"
      ]
    }
  ],
  "metadata": {
    "colab": {
      "provenance": []
    },
    "kernelspec": {
      "display_name": "Python 3",
      "name": "python3"
    },
    "language_info": {
      "codemirror_mode": {
        "name": "ipython",
        "version": 3
      },
      "file_extension": ".py",
      "mimetype": "text/x-python",
      "name": "python",
      "nbconvert_exporter": "python",
      "pygments_lexer": "ipython3",
      "version": "3.12.3"
    }
  },
  "nbformat": 4,
  "nbformat_minor": 0
}
